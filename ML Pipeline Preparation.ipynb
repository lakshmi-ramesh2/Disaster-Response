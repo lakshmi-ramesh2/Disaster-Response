{
 "cells": [
  {
   "cell_type": "markdown",
   "metadata": {},
   "source": [
    "# ML Pipeline Preparation\n",
    "Follow the instructions below to help you create your ML pipeline.\n",
    "### 1. Import libraries and load data from database.\n",
    "- Import Python libraries\n",
    "- Load dataset from database with [`read_sql_table`](https://pandas.pydata.org/pandas-docs/stable/generated/pandas.read_sql_table.html)\n",
    "- Define feature and target variables X and Y"
   ]
  },
  {
   "cell_type": "code",
   "execution_count": 23,
   "metadata": {},
   "outputs": [
    {
     "name": "stdout",
     "output_type": "stream",
     "text": [
      "[nltk_data] Downloading package punkt to /root/nltk_data...\n",
      "[nltk_data]   Package punkt is already up-to-date!\n",
      "[nltk_data] Downloading package wordnet to /root/nltk_data...\n",
      "[nltk_data]   Package wordnet is already up-to-date!\n",
      "[nltk_data] Downloading package averaged_perceptron_tagger to\n",
      "[nltk_data]     /root/nltk_data...\n",
      "[nltk_data]   Package averaged_perceptron_tagger is already up-to-\n",
      "[nltk_data]       date!\n"
     ]
    },
    {
     "data": {
      "text/plain": [
       "True"
      ]
     },
     "execution_count": 23,
     "metadata": {},
     "output_type": "execute_result"
    }
   ],
   "source": [
    "# import libraries\n",
    "import pandas as pd\n",
    "from sqlalchemy import create_engine\n",
    "from nltk.tokenize import word_tokenize\n",
    "from nltk.stem.wordnet import WordNetLemmatizer\n",
    "from sklearn.multioutput import MultiOutputClassifier\n",
    "from sklearn.pipeline import Pipeline, FeatureUnion\n",
    "from sklearn.base import BaseEstimator, TransformerMixin\n",
    "from sklearn.model_selection import train_test_split, GridSearchCV\n",
    "from sklearn.feature_extraction.text import CountVectorizer, TfidfTransformer\n",
    "from sklearn.ensemble import RandomForestClassifier, AdaBoostClassifier\n",
    "from sklearn.metrics import classification_report, accuracy_score, precision_score, recall_score, f1_score\n",
    "import pickle\n",
    "import nltk\n",
    "nltk.download(['punkt', 'wordnet', 'averaged_perceptron_tagger'])"
   ]
  },
  {
   "cell_type": "code",
   "execution_count": 2,
   "metadata": {},
   "outputs": [],
   "source": [
    "# load data from database\n",
    "engine = create_engine('sqlite:///DisasterResponse.db')\n",
    "df = pd.read_sql_table('cleaned_messages', engine)\n",
    "X = df['message']\n",
    "Y = df.drop(['id','message','original','genre'], axis=1)"
   ]
  },
  {
   "cell_type": "code",
   "execution_count": 3,
   "metadata": {},
   "outputs": [
    {
     "data": {
      "text/plain": [
       "0    Weather update - a cold front from Cuba that c...\n",
       "1              Is the Hurricane over or is it not over\n",
       "2                      Looking for someone but no name\n",
       "3    UN reports Leogane 80-90 destroyed. Only Hospi...\n",
       "4    says: west side of Haiti, rest of the country ...\n",
       "Name: message, dtype: object"
      ]
     },
     "execution_count": 3,
     "metadata": {},
     "output_type": "execute_result"
    }
   ],
   "source": [
    "X.head()"
   ]
  },
  {
   "cell_type": "markdown",
   "metadata": {},
   "source": [
    "### 2. Write a tokenization function to process your text data"
   ]
  },
  {
   "cell_type": "code",
   "execution_count": 4,
   "metadata": {},
   "outputs": [],
   "source": [
    "def tokenize(text):\n",
    "    tokens = word_tokenize(text)\n",
    "    lemmatizer = WordNetLemmatizer()\n",
    "\n",
    "    clean_tokens = []\n",
    "    for tok in tokens:\n",
    "        clean_tok = lemmatizer.lemmatize(tok).lower().strip()\n",
    "        clean_tokens.append(clean_tok)\n",
    "\n",
    "    return clean_tokens"
   ]
  },
  {
   "cell_type": "markdown",
   "metadata": {},
   "source": [
    "### 3. Build a machine learning pipeline\n",
    "This machine pipeline should take in the `message` column as input and output classification results on the other 36 categories in the dataset. You may find the [MultiOutputClassifier](http://scikit-learn.org/stable/modules/generated/sklearn.multioutput.MultiOutputClassifier.html) helpful for predicting multiple target variables."
   ]
  },
  {
   "cell_type": "code",
   "execution_count": 5,
   "metadata": {},
   "outputs": [],
   "source": [
    "def model_pipeline():\n",
    "    pipeline = Pipeline([\n",
    "        ('vect', CountVectorizer(tokenizer=tokenize)),\n",
    "        ('tfidf', TfidfTransformer()),\n",
    "        ('clf', MultiOutputClassifier(RandomForestClassifier()))\n",
    "    ])\n",
    "         \n",
    "    return pipeline"
   ]
  },
  {
   "cell_type": "markdown",
   "metadata": {},
   "source": [
    "### 4. Train pipeline\n",
    "- Split data into train and test sets\n",
    "- Train pipeline"
   ]
  },
  {
   "cell_type": "code",
   "execution_count": 6,
   "metadata": {},
   "outputs": [
    {
     "data": {
      "text/plain": [
       "Pipeline(memory=None,\n",
       "     steps=[('vect', CountVectorizer(analyzer='word', binary=False, decode_error='strict',\n",
       "        dtype=<class 'numpy.int64'>, encoding='utf-8', input='content',\n",
       "        lowercase=True, max_df=1.0, max_features=None, min_df=1,\n",
       "        ngram_range=(1, 1), preprocessor=None, stop_words=None,\n",
       "        strip...oob_score=False, random_state=None, verbose=0,\n",
       "            warm_start=False),\n",
       "           n_jobs=1))])"
      ]
     },
     "execution_count": 6,
     "metadata": {},
     "output_type": "execute_result"
    }
   ],
   "source": [
    "X_train, X_test, y_train, y_test = train_test_split(X, Y, test_size=0.33, random_state=42)\n",
    "model = model_pipeline()\n",
    "model.fit(X_train, y_train)"
   ]
  },
  {
   "cell_type": "markdown",
   "metadata": {},
   "source": [
    "### 5. Test your model\n",
    "Report the f1 score, precision and recall for each output category of the dataset. You can do this by iterating through the columns and calling sklearn's `classification_report` on each."
   ]
  },
  {
   "cell_type": "code",
   "execution_count": 7,
   "metadata": {},
   "outputs": [],
   "source": [
    "y_pred = model.predict(X_test)"
   ]
  },
  {
   "cell_type": "code",
   "execution_count": 8,
   "metadata": {},
   "outputs": [
    {
     "data": {
      "text/plain": [
       "Index(['related', 'request', 'offer', 'aid_related', 'medical_help',\n",
       "       'medical_products', 'search_and_rescue', 'security', 'military',\n",
       "       'child_alone', 'water', 'food', 'shelter', 'clothing', 'money',\n",
       "       'missing_people', 'refugees', 'death', 'other_aid',\n",
       "       'infrastructure_related', 'transport', 'buildings', 'electricity',\n",
       "       'tools', 'hospitals', 'shops', 'aid_centers', 'other_infrastructure',\n",
       "       'weather_related', 'floods', 'storm', 'fire', 'earthquake', 'cold',\n",
       "       'other_weather', 'direct_report'],\n",
       "      dtype='object')"
      ]
     },
     "execution_count": 8,
     "metadata": {},
     "output_type": "execute_result"
    }
   ],
   "source": [
    "target_names = y_test.columns\n",
    "target_names"
   ]
  },
  {
   "cell_type": "code",
   "execution_count": 9,
   "metadata": {},
   "outputs": [
    {
     "name": "stdout",
     "output_type": "stream",
     "text": [
      "Report for:  related\n",
      "                        precision    recall  f1-score   support\n",
      "\n",
      "               related       0.61      0.35      0.44      2054\n",
      "               request       0.81      0.93      0.87      6534\n",
      "                 offer       0.86      0.09      0.17        64\n",
      "\n",
      "           avg / total       0.77      0.79      0.76      8652\n",
      "\n",
      "Report for:  request\n",
      "                        precision    recall  f1-score   support\n",
      "\n",
      "               related       0.88      0.98      0.93      7180\n",
      "               request       0.83      0.36      0.51      1472\n",
      "\n",
      "           avg / total       0.87      0.88      0.86      8652\n",
      "\n",
      "Report for:  offer\n",
      "                        precision    recall  f1-score   support\n",
      "\n",
      "               related       1.00      1.00      1.00      8614\n",
      "               request       0.00      0.00      0.00        38\n",
      "\n",
      "           avg / total       0.99      1.00      0.99      8652\n",
      "\n",
      "Report for:  aid_related\n",
      "                        precision    recall  f1-score   support\n",
      "\n",
      "               related       0.72      0.87      0.79      5107\n",
      "               request       0.74      0.52      0.61      3545\n",
      "\n",
      "           avg / total       0.73      0.73      0.72      8652\n",
      "\n",
      "Report for:  medical_help\n",
      "                        precision    recall  f1-score   support\n",
      "\n",
      "               related       0.92      1.00      0.96      7951\n",
      "               request       0.62      0.08      0.15       701\n",
      "\n",
      "           avg / total       0.90      0.92      0.89      8652\n",
      "\n",
      "Report for:  medical_products\n",
      "                        precision    recall  f1-score   support\n",
      "\n",
      "               related       0.95      1.00      0.97      8206\n",
      "               request       0.64      0.07      0.13       446\n",
      "\n",
      "           avg / total       0.94      0.95      0.93      8652\n",
      "\n",
      "Report for:  search_and_rescue\n",
      "                        precision    recall  f1-score   support\n",
      "\n",
      "               related       0.98      1.00      0.99      8426\n",
      "               request       0.83      0.09      0.16       226\n",
      "\n",
      "           avg / total       0.97      0.98      0.97      8652\n",
      "\n",
      "Report for:  security\n",
      "                        precision    recall  f1-score   support\n",
      "\n",
      "               related       0.98      1.00      0.99      8492\n",
      "               request       0.00      0.00      0.00       160\n",
      "\n",
      "           avg / total       0.96      0.98      0.97      8652\n",
      "\n",
      "Report for:  military\n",
      "                        precision    recall  f1-score   support\n",
      "\n",
      "               related       0.97      1.00      0.99      8385\n",
      "               request       0.70      0.09      0.15       267\n",
      "\n",
      "           avg / total       0.96      0.97      0.96      8652\n",
      "\n",
      "Report for:  child_alone\n",
      "                        precision    recall  f1-score   support\n",
      "\n",
      "               related       1.00      1.00      1.00      8652\n",
      "\n",
      "           avg / total       1.00      1.00      1.00      8652\n",
      "\n",
      "Report for:  water\n",
      "                        precision    recall  f1-score   support\n",
      "\n",
      "               related       0.95      1.00      0.97      8109\n",
      "               request       0.85      0.24      0.38       543\n",
      "\n",
      "           avg / total       0.95      0.95      0.94      8652\n",
      "\n",
      "Report for:  food\n",
      "                        precision    recall  f1-score   support\n",
      "\n",
      "               related       0.93      0.99      0.96      7687\n",
      "               request       0.85      0.41      0.55       965\n",
      "\n",
      "           avg / total       0.92      0.93      0.91      8652\n",
      "\n",
      "Report for:  shelter\n",
      "                        precision    recall  f1-score   support\n",
      "\n",
      "               related       0.93      0.99      0.96      7877\n",
      "               request       0.80      0.25      0.38       775\n",
      "\n",
      "           avg / total       0.92      0.93      0.91      8652\n",
      "\n",
      "Report for:  clothing\n",
      "                        precision    recall  f1-score   support\n",
      "\n",
      "               related       0.99      1.00      0.99      8525\n",
      "               request       0.54      0.06      0.10       127\n",
      "\n",
      "           avg / total       0.98      0.99      0.98      8652\n",
      "\n",
      "Report for:  money\n",
      "                        precision    recall  f1-score   support\n",
      "\n",
      "               related       0.98      1.00      0.99      8461\n",
      "               request       0.67      0.04      0.08       191\n",
      "\n",
      "           avg / total       0.97      0.98      0.97      8652\n",
      "\n",
      "Report for:  missing_people\n",
      "                        precision    recall  f1-score   support\n",
      "\n",
      "               related       0.99      1.00      0.99      8548\n",
      "               request       0.00      0.00      0.00       104\n",
      "\n",
      "           avg / total       0.98      0.99      0.98      8652\n",
      "\n",
      "Report for:  refugees\n",
      "                        precision    recall  f1-score   support\n",
      "\n",
      "               related       0.97      1.00      0.98      8359\n",
      "               request       0.30      0.01      0.02       293\n",
      "\n",
      "           avg / total       0.94      0.97      0.95      8652\n",
      "\n",
      "Report for:  death\n",
      "                        precision    recall  f1-score   support\n",
      "\n",
      "               related       0.96      1.00      0.98      8246\n",
      "               request       0.83      0.07      0.13       406\n",
      "\n",
      "           avg / total       0.95      0.96      0.94      8652\n",
      "\n",
      "Report for:  other_aid\n",
      "                        precision    recall  f1-score   support\n",
      "\n",
      "               related       0.87      0.99      0.93      7513\n",
      "               request       0.51      0.04      0.08      1139\n",
      "\n",
      "           avg / total       0.82      0.87      0.82      8652\n",
      "\n",
      "Report for:  infrastructure_related\n",
      "                        precision    recall  f1-score   support\n",
      "\n",
      "               related       0.93      1.00      0.97      8084\n",
      "               request       0.00      0.00      0.00       568\n",
      "\n",
      "           avg / total       0.87      0.93      0.90      8652\n",
      "\n",
      "Report for:  transport\n",
      "                        precision    recall  f1-score   support\n",
      "\n",
      "               related       0.96      1.00      0.98      8245\n",
      "               request       0.55      0.07      0.12       407\n",
      "\n",
      "           avg / total       0.94      0.95      0.94      8652\n",
      "\n",
      "Report for:  buildings\n",
      "                        precision    recall  f1-score   support\n",
      "\n",
      "               related       0.95      1.00      0.97      8211\n",
      "               request       0.72      0.05      0.10       441\n",
      "\n",
      "           avg / total       0.94      0.95      0.93      8652\n",
      "\n",
      "Report for:  electricity\n",
      "                        precision    recall  f1-score   support\n",
      "\n",
      "               related       0.98      1.00      0.99      8467\n",
      "               request       0.89      0.04      0.08       185\n",
      "\n",
      "           avg / total       0.98      0.98      0.97      8652\n",
      "\n",
      "Report for:  tools\n",
      "                        precision    recall  f1-score   support\n",
      "\n",
      "               related       0.99      1.00      1.00      8599\n",
      "               request       0.00      0.00      0.00        53\n",
      "\n",
      "           avg / total       0.99      0.99      0.99      8652\n",
      "\n",
      "Report for:  hospitals\n",
      "                        precision    recall  f1-score   support\n",
      "\n",
      "               related       0.99      1.00      1.00      8567\n",
      "               request       0.00      0.00      0.00        85\n",
      "\n",
      "           avg / total       0.98      0.99      0.99      8652\n",
      "\n",
      "Report for:  shops\n",
      "                        precision    recall  f1-score   support\n",
      "\n",
      "               related       1.00      1.00      1.00      8618\n",
      "               request       0.00      0.00      0.00        34\n",
      "\n",
      "           avg / total       0.99      1.00      0.99      8652\n",
      "\n",
      "Report for:  aid_centers\n",
      "                        precision    recall  f1-score   support\n",
      "\n",
      "               related       0.99      1.00      0.99      8537\n",
      "               request       0.00      0.00      0.00       115\n",
      "\n",
      "           avg / total       0.97      0.99      0.98      8652\n",
      "\n",
      "Report for:  other_infrastructure\n",
      "                        precision    recall  f1-score   support\n",
      "\n",
      "               related       0.96      1.00      0.98      8269\n",
      "               request       0.50      0.00      0.01       383\n",
      "\n",
      "           avg / total       0.94      0.96      0.93      8652\n",
      "\n",
      "Report for:  weather_related\n",
      "                        precision    recall  f1-score   support\n",
      "\n",
      "               related       0.84      0.96      0.90      6262\n",
      "               request       0.84      0.52      0.64      2390\n",
      "\n",
      "           avg / total       0.84      0.84      0.83      8652\n",
      "\n",
      "Report for:  floods\n",
      "                        precision    recall  f1-score   support\n",
      "\n",
      "               related       0.95      1.00      0.97      7959\n",
      "               request       0.90      0.37      0.53       693\n",
      "\n",
      "           avg / total       0.94      0.95      0.94      8652\n",
      "\n",
      "Report for:  storm\n",
      "                        precision    recall  f1-score   support\n",
      "\n",
      "               related       0.93      0.99      0.96      7840\n",
      "               request       0.74      0.33      0.45       812\n",
      "\n",
      "           avg / total       0.92      0.93      0.91      8652\n",
      "\n",
      "Report for:  fire\n",
      "                        precision    recall  f1-score   support\n",
      "\n",
      "               related       0.99      1.00      0.99      8562\n",
      "               request       1.00      0.01      0.02        90\n",
      "\n",
      "           avg / total       0.99      0.99      0.98      8652\n",
      "\n",
      "Report for:  earthquake\n",
      "                        precision    recall  f1-score   support\n",
      "\n",
      "               related       0.97      0.99      0.98      7865\n",
      "               request       0.89      0.65      0.75       787\n",
      "\n",
      "           avg / total       0.96      0.96      0.96      8652\n",
      "\n",
      "Report for:  cold\n",
      "                        precision    recall  f1-score   support\n",
      "\n",
      "               related       0.98      1.00      0.99      8465\n",
      "               request       0.64      0.05      0.09       187\n",
      "\n",
      "           avg / total       0.97      0.98      0.97      8652\n",
      "\n",
      "Report for:  other_weather\n",
      "                        precision    recall  f1-score   support\n",
      "\n",
      "               related       0.95      1.00      0.97      8200\n",
      "               request       0.62      0.02      0.04       452\n",
      "\n",
      "           avg / total       0.93      0.95      0.92      8652\n",
      "\n",
      "Report for:  direct_report\n",
      "                        precision    recall  f1-score   support\n",
      "\n",
      "               related       0.85      0.98      0.91      6958\n",
      "               request       0.78      0.31      0.44      1694\n",
      "\n",
      "           avg / total       0.84      0.85      0.82      8652\n",
      "\n"
     ]
    },
    {
     "name": "stderr",
     "output_type": "stream",
     "text": [
      "/opt/conda/lib/python3.6/site-packages/sklearn/metrics/classification.py:1428: UserWarning: labels size, 3, does not match size of target_names, 36\n",
      "  .format(len(labels), len(target_names))\n",
      "/opt/conda/lib/python3.6/site-packages/sklearn/metrics/classification.py:1428: UserWarning: labels size, 2, does not match size of target_names, 36\n",
      "  .format(len(labels), len(target_names))\n",
      "/opt/conda/lib/python3.6/site-packages/sklearn/metrics/classification.py:1135: UndefinedMetricWarning: Precision and F-score are ill-defined and being set to 0.0 in labels with no predicted samples.\n",
      "  'precision', 'predicted', average, warn_for)\n",
      "/opt/conda/lib/python3.6/site-packages/sklearn/metrics/classification.py:1428: UserWarning: labels size, 1, does not match size of target_names, 36\n",
      "  .format(len(labels), len(target_names))\n"
     ]
    }
   ],
   "source": [
    "for i, col in enumerate(y_test.columns.values):\n",
    "    print(\"Report for: \", col)\n",
    "    print(classification_report(y_test.loc[:, col], y_pred[:, i], target_names=target_names))"
   ]
  },
  {
   "cell_type": "code",
   "execution_count": 10,
   "metadata": {},
   "outputs": [
    {
     "name": "stdout",
     "output_type": "stream",
     "text": [
      "Scores for:  related\n",
      "Accuracy: 0.7856\t\t% Precision: 0.7652\t\t% Recall: 0.7856\t\t% F1_score: 0.7620\n",
      "Scores for:  request\n",
      "Accuracy: 0.8789\t\t% Precision: 0.8735\t\t% Recall: 0.8789\t\t% F1_score: 0.8586\n",
      "Scores for:  offer\n",
      "Accuracy: 0.9956\t\t% Precision: 0.9912\t\t% Recall: 0.9956\t\t% F1_score: 0.9934\n",
      "Scores for:  aid_related\n",
      "Accuracy: 0.7275\t\t% Precision: 0.7296\t\t% Recall: 0.7275\t\t% F1_score: 0.7161\n",
      "Scores for:  medical_help\n",
      "Accuracy: 0.9216\t\t% Precision: 0.9005\t\t% Recall: 0.9216\t\t% F1_score: 0.8931\n",
      "Scores for:  medical_products\n",
      "Accuracy: 0.9501\t\t% Precision: 0.9358\t\t% Recall: 0.9501\t\t% F1_score: 0.9307\n",
      "Scores for:  search_and_rescue\n",
      "Accuracy: 0.9757\t\t% Precision: 0.9724\t\t% Recall: 0.9757\t\t% F1_score: 0.9661\n",
      "Scores for:  security\n",
      "Accuracy: 0.9812\t\t% Precision: 0.9634\t\t% Recall: 0.9812\t\t% F1_score: 0.9722\n",
      "Scores for:  military\n",
      "Accuracy: 0.9706\t\t% Precision: 0.9632\t\t% Recall: 0.9706\t\t% F1_score: 0.9594\n",
      "Scores for:  child_alone\n",
      "Accuracy: 1.0000\t\t% Precision: 1.0000\t\t% Recall: 1.0000\t\t% F1_score: 1.0000\n",
      "Scores for:  water\n",
      "Accuracy: 0.9498\t\t% Precision: 0.9454\t\t% Recall: 0.9498\t\t% F1_score: 0.9365\n",
      "Scores for:  food\n",
      "Accuracy: 0.9261\t\t% Precision: 0.9214\t\t% Recall: 0.9261\t\t% F1_score: 0.9145\n",
      "Scores for:  shelter\n",
      "Accuracy: 0.9272\t\t% Precision: 0.9190\t\t% Recall: 0.9272\t\t% F1_score: 0.9093\n",
      "Scores for:  clothing\n",
      "Accuracy: 0.9854\t\t% Precision: 0.9795\t\t% Recall: 0.9854\t\t% F1_score: 0.9796\n",
      "Scores for:  money\n",
      "Accuracy: 0.9784\t\t% Precision: 0.9719\t\t% Recall: 0.9784\t\t% F1_score: 0.9690\n",
      "Scores for:  missing_people\n",
      "Accuracy: 0.9880\t\t% Precision: 0.9761\t\t% Recall: 0.9880\t\t% F1_score: 0.9820\n",
      "Scores for:  refugees\n",
      "Accuracy: 0.9657\t\t% Precision: 0.9439\t\t% Recall: 0.9657\t\t% F1_score: 0.9499\n",
      "Scores for:  death\n",
      "Accuracy: 0.9557\t\t% Precision: 0.9503\t\t% Recall: 0.9557\t\t% F1_score: 0.9376\n",
      "Scores for:  other_aid\n",
      "Accuracy: 0.8686\t\t% Precision: 0.8248\t\t% Recall: 0.8686\t\t% F1_score: 0.8170\n",
      "Scores for:  infrastructure_related\n",
      "Accuracy: 0.9340\t\t% Precision: 0.8730\t\t% Recall: 0.9340\t\t% F1_score: 0.9025\n",
      "Scores for:  transport\n",
      "Accuracy: 0.9535\t\t% Precision: 0.9368\t\t% Recall: 0.9535\t\t% F1_score: 0.9360\n",
      "Scores for:  buildings\n",
      "Accuracy: 0.9506\t\t% Precision: 0.9396\t\t% Recall: 0.9506\t\t% F1_score: 0.9299\n",
      "Scores for:  electricity\n",
      "Accuracy: 0.9794\t\t% Precision: 0.9776\t\t% Recall: 0.9794\t\t% F1_score: 0.9702\n",
      "Scores for:  tools\n",
      "Accuracy: 0.9939\t\t% Precision: 0.9878\t\t% Recall: 0.9939\t\t% F1_score: 0.9908\n",
      "Scores for:  hospitals\n",
      "Accuracy: 0.9902\t\t% Precision: 0.9804\t\t% Recall: 0.9902\t\t% F1_score: 0.9853\n",
      "Scores for:  shops\n",
      "Accuracy: 0.9961\t\t% Precision: 0.9922\t\t% Recall: 0.9961\t\t% F1_score: 0.9941\n",
      "Scores for:  aid_centers\n",
      "Accuracy: 0.9867\t\t% Precision: 0.9736\t\t% Recall: 0.9867\t\t% F1_score: 0.9801\n",
      "Scores for:  other_infrastructure\n",
      "Accuracy: 0.9557\t\t% Precision: 0.9357\t\t% Recall: 0.9557\t\t% F1_score: 0.9343\n",
      "Scores for:  weather_related\n",
      "Accuracy: 0.8388\t\t% Precision: 0.8386\t\t% Recall: 0.8388\t\t% F1_score: 0.8251\n",
      "Scores for:  floods\n",
      "Accuracy: 0.9463\t\t% Precision: 0.9438\t\t% Recall: 0.9463\t\t% F1_score: 0.9358\n",
      "Scores for:  storm\n",
      "Accuracy: 0.9260\t\t% Precision: 0.9159\t\t% Recall: 0.9260\t\t% F1_score: 0.9126\n",
      "Scores for:  fire\n"
     ]
    },
    {
     "name": "stderr",
     "output_type": "stream",
     "text": [
      "/opt/conda/lib/python3.6/site-packages/sklearn/metrics/classification.py:1135: UndefinedMetricWarning: Precision is ill-defined and being set to 0.0 in labels with no predicted samples.\n",
      "  'precision', 'predicted', average, warn_for)\n",
      "/opt/conda/lib/python3.6/site-packages/sklearn/metrics/classification.py:1135: UndefinedMetricWarning: F-score is ill-defined and being set to 0.0 in labels with no predicted samples.\n",
      "  'precision', 'predicted', average, warn_for)\n"
     ]
    },
    {
     "name": "stdout",
     "output_type": "stream",
     "text": [
      "Accuracy: 0.9897\t\t% Precision: 0.9898\t\t% Recall: 0.9897\t\t% F1_score: 0.9847\n",
      "Scores for:  earthquake\n",
      "Accuracy: 0.9606\t\t% Precision: 0.9587\t\t% Recall: 0.9606\t\t% F1_score: 0.9578\n",
      "Scores for:  cold\n",
      "Accuracy: 0.9788\t\t% Precision: 0.9721\t\t% Recall: 0.9788\t\t% F1_score: 0.9699\n",
      "Scores for:  other_weather\n",
      "Accuracy: 0.9482\t\t% Precision: 0.9319\t\t% Recall: 0.9482\t\t% F1_score: 0.9248\n",
      "Scores for:  direct_report\n",
      "Accuracy: 0.8474\t\t% Precision: 0.8386\t\t% Recall: 0.8474\t\t% F1_score: 0.8197\n"
     ]
    }
   ],
   "source": [
    "for i, col in enumerate(y_test.columns.values):\n",
    "    print(\"Scores for: \", target_names[i])\n",
    "    print(\"Accuracy: {:.4f}\\t\\t% Precision: {:.4f}\\t\\t% Recall: {:.4f}\\t\\t% F1_score: {:.4f}\".format(\n",
    "            accuracy_score(y_test.loc[:, col], y_pred[:, i]),\n",
    "            precision_score(y_test.loc[:, col], y_pred[:, i], average='weighted'),\n",
    "            recall_score(y_test.loc[:, col], y_pred[:, i], average='weighted'),\n",
    "        f1_score(y_test.loc[:, col], y_pred[:, i], average='weighted')\n",
    "    ))"
   ]
  },
  {
   "cell_type": "markdown",
   "metadata": {},
   "source": [
    "### 6. Improve your model\n",
    "Use grid search to find better parameters. "
   ]
  },
  {
   "cell_type": "code",
   "execution_count": 11,
   "metadata": {},
   "outputs": [
    {
     "data": {
      "text/plain": [
       "dict_keys(['memory', 'steps', 'vect', 'tfidf', 'clf', 'vect__analyzer', 'vect__binary', 'vect__decode_error', 'vect__dtype', 'vect__encoding', 'vect__input', 'vect__lowercase', 'vect__max_df', 'vect__max_features', 'vect__min_df', 'vect__ngram_range', 'vect__preprocessor', 'vect__stop_words', 'vect__strip_accents', 'vect__token_pattern', 'vect__tokenizer', 'vect__vocabulary', 'tfidf__norm', 'tfidf__smooth_idf', 'tfidf__sublinear_tf', 'tfidf__use_idf', 'clf__estimator__bootstrap', 'clf__estimator__class_weight', 'clf__estimator__criterion', 'clf__estimator__max_depth', 'clf__estimator__max_features', 'clf__estimator__max_leaf_nodes', 'clf__estimator__min_impurity_decrease', 'clf__estimator__min_impurity_split', 'clf__estimator__min_samples_leaf', 'clf__estimator__min_samples_split', 'clf__estimator__min_weight_fraction_leaf', 'clf__estimator__n_estimators', 'clf__estimator__n_jobs', 'clf__estimator__oob_score', 'clf__estimator__random_state', 'clf__estimator__verbose', 'clf__estimator__warm_start', 'clf__estimator', 'clf__n_jobs'])"
      ]
     },
     "execution_count": 11,
     "metadata": {},
     "output_type": "execute_result"
    }
   ],
   "source": [
    "model.get_params().keys()"
   ]
  },
  {
   "cell_type": "code",
   "execution_count": 12,
   "metadata": {},
   "outputs": [],
   "source": [
    "def model_pipeline():\n",
    "    pipeline = Pipeline([\n",
    "        ('vect', CountVectorizer(tokenizer=tokenize)),\n",
    "        ('tfidf', TfidfTransformer()),\n",
    "        ('clf', MultiOutputClassifier(RandomForestClassifier()))\n",
    "    ])\n",
    "         \n",
    "    parameters = {        \n",
    "        'vect__max_df': (0.5, 0.75),\n",
    "        'tfidf__use_idf': (True, False),\n",
    "        'clf__estimator__n_estimators': [50, 100],\n",
    "    }\n",
    "\n",
    "    cv = GridSearchCV(pipeline, param_grid=parameters, n_jobs=-1)\n",
    "    \n",
    "    return cv"
   ]
  },
  {
   "cell_type": "code",
   "execution_count": 14,
   "metadata": {
    "scrolled": true
   },
   "outputs": [
    {
     "name": "stdout",
     "output_type": "stream",
     "text": [
      "Start time:  1551918801.8351846\n",
      "End time:  1551925652.158483\n"
     ]
    }
   ],
   "source": [
    "import time\n",
    "print(\"Start time: \", time.time())\n",
    "X_train, X_test, y_train, y_test = train_test_split(X, Y, test_size=0.33, random_state=42)\n",
    "model = model_pipeline()\n",
    "model.fit(X_train, y_train)\n",
    "print(\"End time: \", time.time())"
   ]
  },
  {
   "cell_type": "markdown",
   "metadata": {},
   "source": [
    "### 7. Test your model\n",
    "Show the accuracy, precision, and recall of the tuned model.  \n",
    "\n",
    "Since this project focuses on code quality, process, and  pipelines, there is no minimum performance metric needed to pass. However, make sure to fine tune your models for accuracy, precision and recall to make your project stand out - especially for your portfolio!"
   ]
  },
  {
   "cell_type": "code",
   "execution_count": 15,
   "metadata": {},
   "outputs": [
    {
     "data": {
      "text/plain": [
       "Index(['related', 'request', 'offer', 'aid_related', 'medical_help',\n",
       "       'medical_products', 'search_and_rescue', 'security', 'military',\n",
       "       'child_alone', 'water', 'food', 'shelter', 'clothing', 'money',\n",
       "       'missing_people', 'refugees', 'death', 'other_aid',\n",
       "       'infrastructure_related', 'transport', 'buildings', 'electricity',\n",
       "       'tools', 'hospitals', 'shops', 'aid_centers', 'other_infrastructure',\n",
       "       'weather_related', 'floods', 'storm', 'fire', 'earthquake', 'cold',\n",
       "       'other_weather', 'direct_report'],\n",
       "      dtype='object')"
      ]
     },
     "execution_count": 15,
     "metadata": {},
     "output_type": "execute_result"
    }
   ],
   "source": [
    "y_pred = model.predict(X_test)\n",
    "target_names = y_test.columns\n",
    "target_names"
   ]
  },
  {
   "cell_type": "code",
   "execution_count": 16,
   "metadata": {},
   "outputs": [
    {
     "name": "stdout",
     "output_type": "stream",
     "text": [
      "Scores for:  related\n",
      "Accuracy: 0.7935\t\t% Precision: 0.7790\t\t% Recall: 0.7935\t\t% F1_score: 0.7558\n",
      "Scores for:  request\n",
      "Accuracy: 0.8911\t\t% Precision: 0.8900\t\t% Recall: 0.8911\t\t% F1_score: 0.8745\n",
      "Scores for:  offer\n",
      "Accuracy: 0.9956\t\t% Precision: 0.9912\t\t% Recall: 0.9956\t\t% F1_score: 0.9934\n",
      "Scores for:  aid_related\n",
      "Accuracy: 0.7721\t\t% Precision: 0.7729\t\t% Recall: 0.7721\t\t% F1_score: 0.7667\n",
      "Scores for:  medical_help\n",
      "Accuracy: 0.9220\t\t% Precision: 0.9105\t\t% Recall: 0.9220\t\t% F1_score: 0.8895\n",
      "Scores for:  medical_products\n",
      "Accuracy: 0.9502\t\t% Precision: 0.9418\t\t% Recall: 0.9502\t\t% F1_score: 0.9287\n",
      "Scores for:  search_and_rescue\n",
      "Accuracy: 0.9745\t\t% Precision: 0.9715\t\t% Recall: 0.9745\t\t% F1_score: 0.9626\n",
      "Scores for:  security\n",
      "Accuracy: 0.9812\t\t% Precision: 0.9634\t\t% Recall: 0.9812\t\t% F1_score: 0.9722\n",
      "Scores for:  military\n",
      "Accuracy: 0.9693\t\t% Precision: 0.9565\t\t% Recall: 0.9693\t\t% F1_score: 0.9559\n",
      "Scores for:  child_alone\n",
      "Accuracy: 1.0000\t\t% Precision: 1.0000\t\t% Recall: 1.0000\t\t% F1_score: 1.0000\n",
      "Scores for:  water\n",
      "Accuracy: 0.9486\t\t% Precision: 0.9451\t\t% Recall: 0.9486\t\t% F1_score: 0.9334\n",
      "Scores for:  food\n",
      "Accuracy: 0.9278\t\t% Precision: 0.9240\t\t% Recall: 0.9278\t\t% F1_score: 0.9162\n",
      "Scores for:  shelter\n",
      "Accuracy: 0.9313\t\t% Precision: 0.9260\t\t% Recall: 0.9313\t\t% F1_score: 0.9155\n",
      "Scores for:  clothing\n",
      "Accuracy: 0.9859\t\t% Precision: 0.9824\t\t% Recall: 0.9859\t\t% F1_score: 0.9800\n",
      "Scores for:  money\n",
      "Accuracy: 0.9785\t\t% Precision: 0.9759\t\t% Recall: 0.9785\t\t% F1_score: 0.9686\n",
      "Scores for:  missing_people\n",
      "Accuracy: 0.9881\t\t% Precision: 0.9882\t\t% Recall: 0.9881\t\t% F1_score: 0.9823\n",
      "Scores for:  refugees\n",
      "Accuracy: 0.9659\t\t% Precision: 0.9334\t\t% Recall: 0.9659\t\t% F1_score: 0.9494\n",
      "Scores for:  death\n",
      "Accuracy: 0.9582\t\t% Precision: 0.9550\t\t% Recall: 0.9582\t\t% F1_score: 0.9429\n",
      "Scores for:  other_aid\n",
      "Accuracy: 0.8695\t\t% Precision: 0.8434\t\t% Recall: 0.8695\t\t% F1_score: 0.8121\n",
      "Scores for:  infrastructure_related\n",
      "Accuracy: 0.9344\t\t% Precision: 0.8730\t\t% Recall: 0.9344\t\t% F1_score: 0.9026\n",
      "Scores for:  transport\n",
      "Accuracy: 0.9547\t\t% Precision: 0.9448\t\t% Recall: 0.9547\t\t% F1_score: 0.9359\n",
      "Scores for:  buildings\n",
      "Accuracy: 0.9515\t\t% Precision: 0.9424\t\t% Recall: 0.9515\t\t% F1_score: 0.9319\n",
      "Scores for:  electricity\n",
      "Accuracy: 0.9792\t\t% Precision: 0.9796\t\t% Recall: 0.9792\t\t% F1_score: 0.9695\n",
      "Scores for:  tools\n",
      "Accuracy: 0.9939\t\t% Precision: 0.9878\t\t% Recall: 0.9939\t\t% F1_score: 0.9908\n",
      "Scores for:  hospitals\n",
      "Accuracy: 0.9902\t\t% Precision: 0.9804\t\t% Recall: 0.9902\t\t% F1_score: 0.9853\n",
      "Scores for:  shops\n",
      "Accuracy: 0.9961\t\t% Precision: 0.9922\t\t% Recall: 0.9961\t\t% F1_score: 0.9941\n",
      "Scores for:  aid_centers\n",
      "Accuracy: 0.9867\t\t% Precision: 0.9736\t\t% Recall: 0.9867\t\t% F1_score: 0.9801\n",
      "Scores for:  other_infrastructure\n",
      "Accuracy: 0.9556\t\t% Precision: 0.9134\t\t% Recall: 0.9556\t\t% F1_score: 0.9340\n",
      "Scores for:  weather_related\n",
      "Accuracy: 0.8692\t\t% Precision: 0.8682\t\t% Recall: 0.8692\t\t% F1_score: 0.8623\n",
      "Scores for:  floods\n",
      "Accuracy: 0.9502\t\t% Precision: 0.9478\t\t% Recall: 0.9502\t\t% F1_score: 0.9420\n",
      "Scores for:  storm\n",
      "Accuracy: 0.9334\t\t% Precision: 0.9259\t\t% Recall: 0.9334\t\t% F1_score: 0.9244\n",
      "Scores for:  fire\n"
     ]
    },
    {
     "name": "stderr",
     "output_type": "stream",
     "text": [
      "/opt/conda/lib/python3.6/site-packages/sklearn/metrics/classification.py:1135: UndefinedMetricWarning: Precision is ill-defined and being set to 0.0 in labels with no predicted samples.\n",
      "  'precision', 'predicted', average, warn_for)\n",
      "/opt/conda/lib/python3.6/site-packages/sklearn/metrics/classification.py:1135: UndefinedMetricWarning: F-score is ill-defined and being set to 0.0 in labels with no predicted samples.\n",
      "  'precision', 'predicted', average, warn_for)\n"
     ]
    },
    {
     "name": "stdout",
     "output_type": "stream",
     "text": [
      "Accuracy: 0.9895\t\t% Precision: 0.9793\t\t% Recall: 0.9895\t\t% F1_score: 0.9844\n",
      "Scores for:  earthquake\n",
      "Accuracy: 0.9695\t\t% Precision: 0.9683\t\t% Recall: 0.9695\t\t% F1_score: 0.9684\n",
      "Scores for:  cold\n",
      "Accuracy: 0.9791\t\t% Precision: 0.9744\t\t% Recall: 0.9791\t\t% F1_score: 0.9700\n",
      "Scores for:  other_weather\n",
      "Accuracy: 0.9482\t\t% Precision: 0.9509\t\t% Recall: 0.9482\t\t% F1_score: 0.9235\n",
      "Scores for:  direct_report\n",
      "Accuracy: 0.8589\t\t% Precision: 0.8587\t\t% Recall: 0.8589\t\t% F1_score: 0.8328\n"
     ]
    }
   ],
   "source": [
    "for i, col in enumerate(y_test.columns.values):\n",
    "    print(\"Scores for: \", target_names[i])\n",
    "    print(\"Accuracy: {:.4f}\\t\\t% Precision: {:.4f}\\t\\t% Recall: {:.4f}\\t\\t% F1_score: {:.4f}\".format(\n",
    "            accuracy_score(y_test.loc[:, col], y_pred[:, i]),\n",
    "            precision_score(y_test.loc[:, col], y_pred[:, i], average='weighted'),\n",
    "            recall_score(y_test.loc[:, col], y_pred[:, i], average='weighted'),\n",
    "        f1_score(y_test.loc[:, col], y_pred[:, i], average='weighted')\n",
    "    ))"
   ]
  },
  {
   "cell_type": "markdown",
   "metadata": {},
   "source": [
    "### 8. Try improving your model further. Here are a few ideas:\n",
    "* try other machine learning algorithms\n",
    "* add other features besides the TF-IDF"
   ]
  },
  {
   "cell_type": "code",
   "execution_count": 17,
   "metadata": {},
   "outputs": [],
   "source": [
    "class StartingVerbExtractor(BaseEstimator, TransformerMixin):\n",
    "\n",
    "    def starting_verb(self, text):\n",
    "        sentence_list = nltk.sent_tokenize(text)\n",
    "        for sentence in sentence_list:\n",
    "            pos_tags = nltk.pos_tag(tokenize(sentence))\n",
    "            first_word, first_tag = pos_tags[0]\n",
    "            if first_tag in ['VB', 'VBP'] or first_word == 'RT':\n",
    "                return True\n",
    "        return False\n",
    "\n",
    "    def fit(self, x, y=None):\n",
    "        return self\n",
    "\n",
    "    def transform(self, X):\n",
    "        X_tagged = pd.Series(X).apply(self.starting_verb)\n",
    "        return pd.DataFrame(X_tagged)"
   ]
  },
  {
   "cell_type": "code",
   "execution_count": 18,
   "metadata": {},
   "outputs": [],
   "source": [
    "def model_pipeline():\n",
    "    pipeline = Pipeline([\n",
    "        ('features', FeatureUnion([\n",
    "\n",
    "            ('text_pipeline', Pipeline([\n",
    "                ('vect', CountVectorizer(tokenizer=tokenize)),\n",
    "                ('tfidf', TfidfTransformer())\n",
    "            ])),\n",
    "\n",
    "            ('starting_verb', StartingVerbExtractor())\n",
    "        ])),\n",
    "\n",
    "        ('clf', MultiOutputClassifier(AdaBoostClassifier()))\n",
    "    ])\n",
    "         \n",
    "    parameters = {        \n",
    "        'features__text_pipeline__vect__max_df': (0.5, 0.75),\n",
    "        'features__text_pipeline__tfidf__use_idf': (True, False),\n",
    "        'clf__estimator__n_estimators': [50, 100],\n",
    "    }\n",
    "\n",
    "    cv = GridSearchCV(pipeline, param_grid=parameters)\n",
    "    \n",
    "    return cv"
   ]
  },
  {
   "cell_type": "code",
   "execution_count": 19,
   "metadata": {
    "scrolled": false
   },
   "outputs": [
    {
     "name": "stdout",
     "output_type": "stream",
     "text": [
      "Start time:  1551926309.991386\n",
      "End time:  1551931746.953701\n"
     ]
    }
   ],
   "source": [
    "print(\"Start time: \", time.time())\n",
    "X_train, X_test, y_train, y_test = train_test_split(X, Y, test_size=0.33, random_state=42)\n",
    "model = model_pipeline()\n",
    "model.fit(X_train, y_train)\n",
    "print(\"End time: \", time.time())"
   ]
  },
  {
   "cell_type": "code",
   "execution_count": 20,
   "metadata": {},
   "outputs": [
    {
     "data": {
      "text/plain": [
       "Index(['related', 'request', 'offer', 'aid_related', 'medical_help',\n",
       "       'medical_products', 'search_and_rescue', 'security', 'military',\n",
       "       'child_alone', 'water', 'food', 'shelter', 'clothing', 'money',\n",
       "       'missing_people', 'refugees', 'death', 'other_aid',\n",
       "       'infrastructure_related', 'transport', 'buildings', 'electricity',\n",
       "       'tools', 'hospitals', 'shops', 'aid_centers', 'other_infrastructure',\n",
       "       'weather_related', 'floods', 'storm', 'fire', 'earthquake', 'cold',\n",
       "       'other_weather', 'direct_report'],\n",
       "      dtype='object')"
      ]
     },
     "execution_count": 20,
     "metadata": {},
     "output_type": "execute_result"
    }
   ],
   "source": [
    "y_pred = model.predict(X_test)\n",
    "target_names = y_test.columns\n",
    "target_names"
   ]
  },
  {
   "cell_type": "code",
   "execution_count": 21,
   "metadata": {},
   "outputs": [
    {
     "name": "stdout",
     "output_type": "stream",
     "text": [
      "Scores for:  related\n",
      "Accuracy: 0.7690\t\t% Precision: 0.7383\t\t% Recall: 0.7690\t\t% F1_score: 0.7382\n",
      "Scores for:  request\n",
      "Accuracy: 0.8981\t\t% Precision: 0.8916\t\t% Recall: 0.8981\t\t% F1_score: 0.8910\n",
      "Scores for:  offer\n",
      "Accuracy: 0.9946\t\t% Precision: 0.9925\t\t% Recall: 0.9946\t\t% F1_score: 0.9934\n",
      "Scores for:  aid_related\n",
      "Accuracy: 0.7632\t\t% Precision: 0.7622\t\t% Recall: 0.7632\t\t% F1_score: 0.7588\n",
      "Scores for:  medical_help\n",
      "Accuracy: 0.9238\t\t% Precision: 0.9087\t\t% Recall: 0.9238\t\t% F1_score: 0.9122\n",
      "Scores for:  medical_products\n",
      "Accuracy: 0.9537\t\t% Precision: 0.9446\t\t% Recall: 0.9537\t\t% F1_score: 0.9466\n",
      "Scores for:  search_and_rescue\n",
      "Accuracy: 0.9746\t\t% Precision: 0.9669\t\t% Recall: 0.9746\t\t% F1_score: 0.9682\n",
      "Scores for:  security\n",
      "Accuracy: 0.9802\t\t% Precision: 0.9669\t\t% Recall: 0.9802\t\t% F1_score: 0.9723\n",
      "Scores for:  military\n",
      "Accuracy: 0.9694\t\t% Precision: 0.9634\t\t% Recall: 0.9694\t\t% F1_score: 0.9655\n",
      "Scores for:  child_alone\n",
      "Accuracy: 1.0000\t\t% Precision: 1.0000\t\t% Recall: 1.0000\t\t% F1_score: 1.0000\n",
      "Scores for:  water\n",
      "Accuracy: 0.9617\t\t% Precision: 0.9596\t\t% Recall: 0.9617\t\t% F1_score: 0.9605\n",
      "Scores for:  food\n",
      "Accuracy: 0.9439\t\t% Precision: 0.9410\t\t% Recall: 0.9439\t\t% F1_score: 0.9417\n",
      "Scores for:  shelter\n",
      "Accuracy: 0.9415\t\t% Precision: 0.9366\t\t% Recall: 0.9415\t\t% F1_score: 0.9378\n",
      "Scores for:  clothing\n",
      "Accuracy: 0.9877\t\t% Precision: 0.9859\t\t% Recall: 0.9877\t\t% F1_score: 0.9865\n",
      "Scores for:  money\n",
      "Accuracy: 0.9770\t\t% Precision: 0.9728\t\t% Recall: 0.9770\t\t% F1_score: 0.9744\n",
      "Scores for:  missing_people\n",
      "Accuracy: 0.9880\t\t% Precision: 0.9839\t\t% Recall: 0.9880\t\t% F1_score: 0.9848\n",
      "Scores for:  refugees\n",
      "Accuracy: 0.9678\t\t% Precision: 0.9607\t\t% Recall: 0.9678\t\t% F1_score: 0.9627\n",
      "Scores for:  death\n",
      "Accuracy: 0.9647\t\t% Precision: 0.9596\t\t% Recall: 0.9647\t\t% F1_score: 0.9600\n",
      "Scores for:  other_aid\n",
      "Accuracy: 0.8689\t\t% Precision: 0.8351\t\t% Recall: 0.8689\t\t% F1_score: 0.8384\n",
      "Scores for:  infrastructure_related\n",
      "Accuracy: 0.9305\t\t% Precision: 0.9041\t\t% Recall: 0.9305\t\t% F1_score: 0.9113\n",
      "Scores for:  transport\n",
      "Accuracy: 0.9547\t\t% Precision: 0.9415\t\t% Recall: 0.9547\t\t% F1_score: 0.9427\n",
      "Scores for:  buildings\n",
      "Accuracy: 0.9587\t\t% Precision: 0.9518\t\t% Recall: 0.9587\t\t% F1_score: 0.9524\n",
      "Scores for:  electricity\n",
      "Accuracy: 0.9784\t\t% Precision: 0.9724\t\t% Recall: 0.9784\t\t% F1_score: 0.9742\n",
      "Scores for:  tools\n",
      "Accuracy: 0.9921\t\t% Precision: 0.9882\t\t% Recall: 0.9921\t\t% F1_score: 0.9901\n",
      "Scores for:  hospitals\n",
      "Accuracy: 0.9887\t\t% Precision: 0.9848\t\t% Recall: 0.9887\t\t% F1_score: 0.9863\n",
      "Scores for:  shops\n",
      "Accuracy: 0.9950\t\t% Precision: 0.9926\t\t% Recall: 0.9950\t\t% F1_score: 0.9938\n",
      "Scores for:  aid_centers\n",
      "Accuracy: 0.9844\t\t% Precision: 0.9771\t\t% Recall: 0.9844\t\t% F1_score: 0.9802\n",
      "Scores for:  other_infrastructure\n",
      "Accuracy: 0.9501\t\t% Precision: 0.9284\t\t% Recall: 0.9501\t\t% F1_score: 0.9366\n",
      "Scores for:  weather_related\n",
      "Accuracy: 0.8729\t\t% Precision: 0.8702\t\t% Recall: 0.8729\t\t% F1_score: 0.8683\n",
      "Scores for:  floods\n",
      "Accuracy: 0.9534\t\t% Precision: 0.9495\t\t% Recall: 0.9534\t\t% F1_score: 0.9492\n",
      "Scores for:  storm\n",
      "Accuracy: 0.9385\t\t% Precision: 0.9334\t\t% Recall: 0.9385\t\t% F1_score: 0.9347\n",
      "Scores for:  fire\n",
      "Accuracy: 0.9899\t\t% Precision: 0.9868\t\t% Recall: 0.9899\t\t% F1_score: 0.9874\n",
      "Scores for:  earthquake\n",
      "Accuracy: 0.9672\t\t% Precision: 0.9659\t\t% Recall: 0.9672\t\t% F1_score: 0.9662\n",
      "Scores for:  cold\n",
      "Accuracy: 0.9820\t\t% Precision: 0.9785\t\t% Recall: 0.9820\t\t% F1_score: 0.9789\n",
      "Scores for:  other_weather\n",
      "Accuracy: 0.9448\t\t% Precision: 0.9276\t\t% Recall: 0.9448\t\t% F1_score: 0.9328\n",
      "Scores for:  direct_report\n",
      "Accuracy: 0.8614\t\t% Precision: 0.8507\t\t% Recall: 0.8614\t\t% F1_score: 0.8503\n"
     ]
    }
   ],
   "source": [
    "for i, col in enumerate(y_test.columns.values):\n",
    "    print(\"Scores for: \", target_names[i])\n",
    "    print(\"Accuracy: {:.4f}\\t\\t% Precision: {:.4f}\\t\\t% Recall: {:.4f}\\t\\t% F1_score: {:.4f}\".format(\n",
    "            accuracy_score(y_test.loc[:, col], y_pred[:, i]),\n",
    "            precision_score(y_test.loc[:, col], y_pred[:, i], average='weighted'),\n",
    "            recall_score(y_test.loc[:, col], y_pred[:, i], average='weighted'),\n",
    "        f1_score(y_test.loc[:, col], y_pred[:, i], average='weighted')\n",
    "    ))"
   ]
  },
  {
   "cell_type": "markdown",
   "metadata": {},
   "source": [
    "### 9. Export your model as a pickle file"
   ]
  },
  {
   "cell_type": "code",
   "execution_count": 24,
   "metadata": {},
   "outputs": [],
   "source": [
    "with open('model.pkl', 'wb') as f:\n",
    "    pickle.dump(model, f)"
   ]
  },
  {
   "cell_type": "markdown",
   "metadata": {},
   "source": [
    "### 10. Use this notebook to complete `train.py`\n",
    "Use the template file attached in the Resources folder to write a script that runs the steps above to create a database and export a model based on a new dataset specified by the user."
   ]
  },
  {
   "cell_type": "code",
   "execution_count": null,
   "metadata": {},
   "outputs": [],
   "source": []
  }
 ],
 "metadata": {
  "kernelspec": {
   "display_name": "Python 3",
   "language": "python",
   "name": "python3"
  },
  "language_info": {
   "codemirror_mode": {
    "name": "ipython",
    "version": 3
   },
   "file_extension": ".py",
   "mimetype": "text/x-python",
   "name": "python",
   "nbconvert_exporter": "python",
   "pygments_lexer": "ipython3",
   "version": "3.6.3"
  }
 },
 "nbformat": 4,
 "nbformat_minor": 2
}
