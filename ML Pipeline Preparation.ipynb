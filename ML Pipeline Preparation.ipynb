{
 "cells": [
  {
   "cell_type": "markdown",
   "metadata": {},
   "source": [
    "# ML Pipeline Preparation\n",
    "Follow the instructions below to help you create your ML pipeline.\n",
    "### 1. Import libraries and load data from database.\n",
    "- Import Python libraries\n",
    "- Load dataset from database with [`read_sql_table`](https://pandas.pydata.org/pandas-docs/stable/generated/pandas.read_sql_table.html)\n",
    "- Define feature and target variables X and Y"
   ]
  },
  {
   "cell_type": "code",
   "execution_count": 1,
   "metadata": {},
   "outputs": [
    {
     "name": "stdout",
     "output_type": "stream",
     "text": [
      "[nltk_data] Downloading package punkt to /root/nltk_data...\n",
      "[nltk_data]   Unzipping tokenizers/punkt.zip.\n",
      "[nltk_data] Downloading package wordnet to /root/nltk_data...\n",
      "[nltk_data]   Unzipping corpora/wordnet.zip.\n",
      "[nltk_data] Downloading package averaged_perceptron_tagger to\n",
      "[nltk_data]     /root/nltk_data...\n",
      "[nltk_data]   Unzipping taggers/averaged_perceptron_tagger.zip.\n",
      "[nltk_data] Downloading package stopwords to /root/nltk_data...\n",
      "[nltk_data]   Unzipping corpora/stopwords.zip.\n"
     ]
    },
    {
     "data": {
      "text/plain": [
       "True"
      ]
     },
     "execution_count": 1,
     "metadata": {},
     "output_type": "execute_result"
    }
   ],
   "source": [
    "# import libraries\n",
    "import pandas as pd\n",
    "from sqlalchemy import create_engine\n",
    "from nltk.tokenize import word_tokenize\n",
    "from nltk.stem.wordnet import WordNetLemmatizer\n",
    "from sklearn.multioutput import MultiOutputClassifier\n",
    "from sklearn.pipeline import Pipeline, FeatureUnion\n",
    "from sklearn.base import BaseEstimator, TransformerMixin\n",
    "from sklearn.model_selection import train_test_split, GridSearchCV\n",
    "from sklearn.feature_extraction.text import CountVectorizer, TfidfTransformer\n",
    "from sklearn.ensemble import RandomForestClassifier, AdaBoostClassifier\n",
    "from sklearn.metrics import classification_report, accuracy_score, precision_score, recall_score, f1_score\n",
    "import pickle\n",
    "import nltk\n",
    "from nltk.corpus import stopwords\n",
    "nltk.download(['punkt', 'wordnet', 'averaged_perceptron_tagger','stopwords'])"
   ]
  },
  {
   "cell_type": "code",
   "execution_count": 2,
   "metadata": {},
   "outputs": [],
   "source": [
    "# load data from database\n",
    "engine = create_engine('sqlite:///DisasterResponse.db')\n",
    "df = pd.read_sql_table('cleaned_messages', engine)\n",
    "X = df['message']\n",
    "Y = df.drop(['id','message','original','genre'], axis=1)"
   ]
  },
  {
   "cell_type": "code",
   "execution_count": 3,
   "metadata": {},
   "outputs": [
    {
     "data": {
      "text/plain": [
       "0    Weather update - a cold front from Cuba that c...\n",
       "1              Is the Hurricane over or is it not over\n",
       "2                      Looking for someone but no name\n",
       "3    UN reports Leogane 80-90 destroyed. Only Hospi...\n",
       "4    says: west side of Haiti, rest of the country ...\n",
       "Name: message, dtype: object"
      ]
     },
     "execution_count": 3,
     "metadata": {},
     "output_type": "execute_result"
    }
   ],
   "source": [
    "X.head()"
   ]
  },
  {
   "cell_type": "markdown",
   "metadata": {},
   "source": [
    "### 2. Write a tokenization function to process your text data"
   ]
  },
  {
   "cell_type": "code",
   "execution_count": 4,
   "metadata": {},
   "outputs": [],
   "source": [
    "def tokenize(text):\n",
    "    # convert text to lowercase\n",
    "    text = text.lower()\n",
    "    tokens = word_tokenize(text)\n",
    "    \n",
    "    STOPWORDS = list(set(stopwords.words('english')))\n",
    "    # remove short words\n",
    "    tokens = [token for token in tokens if len(token) > 2]\n",
    "    # remove stopwords\n",
    "    tokens = [token for token in tokens if token not in STOPWORDS]\n",
    "  \n",
    "    lemmatizer = WordNetLemmatizer()\n",
    "\n",
    "    clean_tokens = []\n",
    "    for tok in tokens:\n",
    "        clean_tok = lemmatizer.lemmatize(tok).strip()\n",
    "        clean_tokens.append(clean_tok)\n",
    "\n",
    "    return clean_tokens"
   ]
  },
  {
   "cell_type": "markdown",
   "metadata": {},
   "source": [
    "### 3. Build a machine learning pipeline\n",
    "This machine pipeline should take in the `message` column as input and output classification results on the other 36 categories in the dataset. You may find the [MultiOutputClassifier](http://scikit-learn.org/stable/modules/generated/sklearn.multioutput.MultiOutputClassifier.html) helpful for predicting multiple target variables."
   ]
  },
  {
   "cell_type": "code",
   "execution_count": 5,
   "metadata": {},
   "outputs": [],
   "source": [
    "def model_pipeline():\n",
    "    pipeline = Pipeline([\n",
    "        ('vect', CountVectorizer(tokenizer=tokenize)),\n",
    "        ('tfidf', TfidfTransformer()),\n",
    "        ('clf', MultiOutputClassifier(RandomForestClassifier()))\n",
    "    ])\n",
    "         \n",
    "    return pipeline"
   ]
  },
  {
   "cell_type": "markdown",
   "metadata": {},
   "source": [
    "### 4. Train pipeline\n",
    "- Split data into train and test sets\n",
    "- Train pipeline"
   ]
  },
  {
   "cell_type": "code",
   "execution_count": 6,
   "metadata": {},
   "outputs": [
    {
     "data": {
      "text/plain": [
       "Pipeline(memory=None,\n",
       "     steps=[('vect', CountVectorizer(analyzer='word', binary=False, decode_error='strict',\n",
       "        dtype=<class 'numpy.int64'>, encoding='utf-8', input='content',\n",
       "        lowercase=True, max_df=1.0, max_features=None, min_df=1,\n",
       "        ngram_range=(1, 1), preprocessor=None, stop_words=None,\n",
       "        strip...oob_score=False, random_state=None, verbose=0,\n",
       "            warm_start=False),\n",
       "           n_jobs=1))])"
      ]
     },
     "execution_count": 6,
     "metadata": {},
     "output_type": "execute_result"
    }
   ],
   "source": [
    "X_train, X_test, y_train, y_test = train_test_split(X, Y, test_size=0.33, random_state=42)\n",
    "model = model_pipeline()\n",
    "model.fit(X_train, y_train)"
   ]
  },
  {
   "cell_type": "markdown",
   "metadata": {},
   "source": [
    "### 5. Test your model\n",
    "Report the f1 score, precision and recall for each output category of the dataset. You can do this by iterating through the columns and calling sklearn's `classification_report` on each."
   ]
  },
  {
   "cell_type": "code",
   "execution_count": 7,
   "metadata": {},
   "outputs": [],
   "source": [
    "y_pred = model.predict(X_test)"
   ]
  },
  {
   "cell_type": "code",
   "execution_count": 8,
   "metadata": {},
   "outputs": [
    {
     "data": {
      "text/plain": [
       "Index(['related', 'request', 'offer', 'aid_related', 'medical_help',\n",
       "       'medical_products', 'search_and_rescue', 'security', 'military',\n",
       "       'child_alone', 'water', 'food', 'shelter', 'clothing', 'money',\n",
       "       'missing_people', 'refugees', 'death', 'other_aid',\n",
       "       'infrastructure_related', 'transport', 'buildings', 'electricity',\n",
       "       'tools', 'hospitals', 'shops', 'aid_centers', 'other_infrastructure',\n",
       "       'weather_related', 'floods', 'storm', 'fire', 'earthquake', 'cold',\n",
       "       'other_weather', 'direct_report'],\n",
       "      dtype='object')"
      ]
     },
     "execution_count": 8,
     "metadata": {},
     "output_type": "execute_result"
    }
   ],
   "source": [
    "target_names = y_test.columns\n",
    "target_names"
   ]
  },
  {
   "cell_type": "code",
   "execution_count": 9,
   "metadata": {},
   "outputs": [
    {
     "name": "stdout",
     "output_type": "stream",
     "text": [
      "Report for:  related\n",
      "                        precision    recall  f1-score   support\n",
      "\n",
      "               related       0.62      0.45      0.52      2054\n",
      "               request       0.84      0.91      0.87      6534\n",
      "                 offer       0.71      0.16      0.26        64\n",
      "\n",
      "           avg / total       0.78      0.80      0.78      8652\n",
      "\n",
      "Report for:  request\n",
      "                        precision    recall  f1-score   support\n",
      "\n",
      "               related       0.90      0.97      0.93      7180\n",
      "               request       0.78      0.45      0.57      1472\n",
      "\n",
      "           avg / total       0.88      0.88      0.87      8652\n",
      "\n",
      "Report for:  offer\n",
      "                        precision    recall  f1-score   support\n",
      "\n",
      "               related       1.00      1.00      1.00      8614\n",
      "               request       0.00      0.00      0.00        38\n",
      "\n",
      "           avg / total       0.99      1.00      0.99      8652\n",
      "\n",
      "Report for:  aid_related\n",
      "                        precision    recall  f1-score   support\n",
      "\n",
      "               related       0.75      0.85      0.80      5107\n",
      "               request       0.73      0.58      0.65      3545\n",
      "\n",
      "           avg / total       0.74      0.74      0.74      8652\n",
      "\n",
      "Report for:  medical_help\n",
      "                        precision    recall  f1-score   support\n",
      "\n",
      "               related       0.93      0.99      0.96      7951\n",
      "               request       0.64      0.14      0.24       701\n",
      "\n",
      "           avg / total       0.91      0.92      0.90      8652\n",
      "\n",
      "Report for:  medical_products\n",
      "                        precision    recall  f1-score   support\n",
      "\n",
      "               related       0.95      1.00      0.97      8206\n",
      "               request       0.63      0.09      0.15       446\n",
      "\n",
      "           avg / total       0.94      0.95      0.93      8652\n",
      "\n",
      "Report for:  search_and_rescue\n",
      "                        precision    recall  f1-score   support\n",
      "\n",
      "               related       0.97      1.00      0.99      8426\n",
      "               request       0.53      0.04      0.07       226\n",
      "\n",
      "           avg / total       0.96      0.97      0.96      8652\n",
      "\n",
      "Report for:  security\n",
      "                        precision    recall  f1-score   support\n",
      "\n",
      "               related       0.98      1.00      0.99      8492\n",
      "               request       1.00      0.01      0.01       160\n",
      "\n",
      "           avg / total       0.98      0.98      0.97      8652\n",
      "\n",
      "Report for:  military\n",
      "                        precision    recall  f1-score   support\n",
      "\n",
      "               related       0.97      1.00      0.98      8385\n",
      "               request       0.51      0.08      0.14       267\n",
      "\n",
      "           avg / total       0.96      0.97      0.96      8652\n",
      "\n",
      "Report for:  child_alone\n",
      "                        precision    recall  f1-score   support\n",
      "\n",
      "               related       1.00      1.00      1.00      8652\n",
      "\n",
      "           avg / total       1.00      1.00      1.00      8652\n",
      "\n",
      "Report for:  water\n",
      "                        precision    recall  f1-score   support\n",
      "\n",
      "               related       0.95      1.00      0.97      8109\n",
      "               request       0.86      0.28      0.42       543\n",
      "\n",
      "           avg / total       0.95      0.95      0.94      8652\n",
      "\n",
      "Report for:  food\n",
      "                        precision    recall  f1-score   support\n",
      "\n",
      "               related       0.95      0.98      0.97      7687\n",
      "               request       0.82      0.61      0.70       965\n",
      "\n",
      "           avg / total       0.94      0.94      0.94      8652\n",
      "\n",
      "Report for:  shelter\n",
      "                        precision    recall  f1-score   support\n",
      "\n",
      "               related       0.94      0.99      0.96      7877\n",
      "               request       0.78      0.37      0.50       775\n",
      "\n",
      "           avg / total       0.93      0.93      0.92      8652\n",
      "\n",
      "Report for:  clothing\n",
      "                        precision    recall  f1-score   support\n",
      "\n",
      "               related       0.99      1.00      0.99      8525\n",
      "               request       0.75      0.12      0.20       127\n",
      "\n",
      "           avg / total       0.98      0.99      0.98      8652\n",
      "\n",
      "Report for:  money\n",
      "                        precision    recall  f1-score   support\n",
      "\n",
      "               related       0.98      1.00      0.99      8461\n",
      "               request       0.78      0.04      0.07       191\n",
      "\n",
      "           avg / total       0.97      0.98      0.97      8652\n",
      "\n",
      "Report for:  missing_people\n",
      "                        precision    recall  f1-score   support\n",
      "\n",
      "               related       0.99      1.00      0.99      8548\n",
      "               request       0.50      0.01      0.02       104\n",
      "\n",
      "           avg / total       0.98      0.99      0.98      8652\n",
      "\n",
      "Report for:  refugees\n",
      "                        precision    recall  f1-score   support\n",
      "\n",
      "               related       0.97      1.00      0.98      8359\n",
      "               request       0.35      0.02      0.04       293\n",
      "\n",
      "           avg / total       0.95      0.97      0.95      8652\n",
      "\n",
      "Report for:  death\n",
      "                        precision    recall  f1-score   support\n",
      "\n",
      "               related       0.96      1.00      0.98      8246\n",
      "               request       0.81      0.16      0.27       406\n",
      "\n",
      "           avg / total       0.95      0.96      0.95      8652\n",
      "\n",
      "Report for:  other_aid\n",
      "                        precision    recall  f1-score   support\n",
      "\n",
      "               related       0.87      0.99      0.93      7513\n",
      "               request       0.53      0.05      0.08      1139\n",
      "\n",
      "           avg / total       0.83      0.87      0.82      8652\n",
      "\n",
      "Report for:  infrastructure_related\n",
      "                        precision    recall  f1-score   support\n",
      "\n",
      "               related       0.93      1.00      0.97      8084\n",
      "               request       0.29      0.01      0.01       568\n",
      "\n",
      "           avg / total       0.89      0.93      0.90      8652\n",
      "\n",
      "Report for:  transport\n",
      "                        precision    recall  f1-score   support\n",
      "\n",
      "               related       0.96      1.00      0.98      8245\n",
      "               request       0.67      0.10      0.18       407\n",
      "\n",
      "           avg / total       0.94      0.96      0.94      8652\n",
      "\n",
      "Report for:  buildings\n",
      "                        precision    recall  f1-score   support\n",
      "\n",
      "               related       0.95      1.00      0.98      8211\n",
      "               request       0.86      0.10      0.18       441\n",
      "\n",
      "           avg / total       0.95      0.95      0.94      8652\n",
      "\n",
      "Report for:  electricity\n",
      "                        precision    recall  f1-score   support\n",
      "\n",
      "               related       0.98      1.00      0.99      8467\n",
      "               request       1.00      0.04      0.07       185\n",
      "\n",
      "           avg / total       0.98      0.98      0.97      8652\n",
      "\n",
      "Report for:  tools\n",
      "                        precision    recall  f1-score   support\n",
      "\n",
      "               related       0.99      1.00      1.00      8599\n",
      "               request       0.00      0.00      0.00        53\n",
      "\n",
      "           avg / total       0.99      0.99      0.99      8652\n",
      "\n",
      "Report for:  hospitals\n",
      "                        precision    recall  f1-score   support\n",
      "\n",
      "               related       0.99      1.00      1.00      8567\n",
      "               request       0.00      0.00      0.00        85\n",
      "\n",
      "           avg / total       0.98      0.99      0.99      8652\n",
      "\n",
      "Report for:  shops\n",
      "                        precision    recall  f1-score   support\n",
      "\n",
      "               related       1.00      1.00      1.00      8618\n",
      "               request       0.00      0.00      0.00        34\n",
      "\n",
      "           avg / total       0.99      1.00      0.99      8652\n",
      "\n",
      "Report for:  aid_centers\n",
      "                        precision    recall  f1-score   support\n",
      "\n",
      "               related       0.99      1.00      0.99      8537\n",
      "               request       0.00      0.00      0.00       115\n",
      "\n",
      "           avg / total       0.97      0.99      0.98      8652\n",
      "\n",
      "Report for:  other_infrastructure\n",
      "                        precision    recall  f1-score   support\n",
      "\n",
      "               related       0.96      1.00      0.98      8269\n",
      "               request       0.00      0.00      0.00       383\n",
      "\n",
      "           avg / total       0.91      0.95      0.93      8652\n",
      "\n",
      "Report for:  weather_related\n",
      "                        precision    recall  f1-score   support\n",
      "\n",
      "               related       0.86      0.95      0.91      6262\n",
      "               request       0.83      0.60      0.70      2390\n",
      "\n",
      "           avg / total       0.85      0.86      0.85      8652\n",
      "\n",
      "Report for:  floods\n",
      "                        precision    recall  f1-score   support\n",
      "\n",
      "               related       0.95      0.99      0.97      7959\n",
      "               request       0.87      0.39      0.53       693\n",
      "\n",
      "           avg / total       0.94      0.95      0.94      8652\n",
      "\n",
      "Report for:  storm\n",
      "                        precision    recall  f1-score   support\n",
      "\n",
      "               related       0.94      0.98      0.96      7840\n",
      "               request       0.74      0.42      0.54       812\n",
      "\n",
      "           avg / total       0.92      0.93      0.92      8652\n",
      "\n",
      "Report for:  fire\n",
      "                        precision    recall  f1-score   support\n",
      "\n",
      "               related       0.99      1.00      0.99      8562\n",
      "               request       0.50      0.02      0.04        90\n",
      "\n",
      "           avg / total       0.98      0.99      0.98      8652\n",
      "\n",
      "Report for:  earthquake\n",
      "                        precision    recall  f1-score   support\n",
      "\n",
      "               related       0.97      0.99      0.98      7865\n",
      "               request       0.88      0.71      0.79       787\n",
      "\n",
      "           avg / total       0.96      0.96      0.96      8652\n",
      "\n",
      "Report for:  cold\n",
      "                        precision    recall  f1-score   support\n",
      "\n",
      "               related       0.98      1.00      0.99      8465\n",
      "               request       0.62      0.05      0.10       187\n",
      "\n",
      "           avg / total       0.97      0.98      0.97      8652\n",
      "\n",
      "Report for:  other_weather\n",
      "                        precision    recall  f1-score   support\n",
      "\n",
      "               related       0.95      1.00      0.97      8200\n",
      "               request       0.55      0.06      0.11       452\n",
      "\n",
      "           avg / total       0.93      0.95      0.93      8652\n",
      "\n",
      "Report for:  direct_report\n",
      "                        precision    recall  f1-score   support\n",
      "\n",
      "               related       0.86      0.97      0.91      6958\n",
      "               request       0.72      0.35      0.47      1694\n",
      "\n",
      "           avg / total       0.83      0.85      0.83      8652\n",
      "\n"
     ]
    },
    {
     "name": "stderr",
     "output_type": "stream",
     "text": [
      "/opt/conda/lib/python3.6/site-packages/sklearn/metrics/classification.py:1428: UserWarning: labels size, 3, does not match size of target_names, 36\n",
      "  .format(len(labels), len(target_names))\n",
      "/opt/conda/lib/python3.6/site-packages/sklearn/metrics/classification.py:1428: UserWarning: labels size, 2, does not match size of target_names, 36\n",
      "  .format(len(labels), len(target_names))\n",
      "/opt/conda/lib/python3.6/site-packages/sklearn/metrics/classification.py:1135: UndefinedMetricWarning: Precision and F-score are ill-defined and being set to 0.0 in labels with no predicted samples.\n",
      "  'precision', 'predicted', average, warn_for)\n",
      "/opt/conda/lib/python3.6/site-packages/sklearn/metrics/classification.py:1428: UserWarning: labels size, 1, does not match size of target_names, 36\n",
      "  .format(len(labels), len(target_names))\n"
     ]
    }
   ],
   "source": [
    "for i, col in enumerate(y_test.columns.values):\n",
    "    print(\"Report for: \", col)\n",
    "    print(classification_report(y_test.loc[:, col], y_pred[:, i], target_names=target_names))"
   ]
  },
  {
   "cell_type": "code",
   "execution_count": 10,
   "metadata": {},
   "outputs": [
    {
     "name": "stdout",
     "output_type": "stream",
     "text": [
      "Scores for:  related\n",
      "Accuracy: 0.7979\t\t% Precision: 0.7834\t\t% Recall: 0.7979\t\t% F1_score: 0.7849\n",
      "Scores for:  request\n",
      "Accuracy: 0.8848\t\t% Precision: 0.8765\t\t% Recall: 0.8848\t\t% F1_score: 0.8715\n",
      "Scores for:  offer\n",
      "Accuracy: 0.9956\t\t% Precision: 0.9912\t\t% Recall: 0.9956\t\t% F1_score: 0.9934\n",
      "Scores for:  aid_related\n",
      "Accuracy: 0.7420\t\t% Precision: 0.7410\t\t% Recall: 0.7420\t\t% F1_score: 0.7357\n",
      "Scores for:  medical_help\n",
      "Accuracy: 0.9241\t\t% Precision: 0.9059\t\t% Recall: 0.9241\t\t% F1_score: 0.9013\n",
      "Scores for:  medical_products\n",
      "Accuracy: 0.9503\t\t% Precision: 0.9361\t\t% Recall: 0.9503\t\t% F1_score: 0.9319\n",
      "Scores for:  search_and_rescue\n",
      "Accuracy: 0.9740\t\t% Precision: 0.9632\t\t% Recall: 0.9740\t\t% F1_score: 0.9630\n",
      "Scores for:  security\n",
      "Accuracy: 0.9816\t\t% Precision: 0.9820\t\t% Recall: 0.9816\t\t% F1_score: 0.9726\n",
      "Scores for:  military\n",
      "Accuracy: 0.9693\t\t% Precision: 0.9573\t\t% Recall: 0.9693\t\t% F1_score: 0.9582\n",
      "Scores for:  child_alone\n",
      "Accuracy: 1.0000\t\t% Precision: 1.0000\t\t% Recall: 1.0000\t\t% F1_score: 1.0000\n",
      "Scores for:  water\n",
      "Accuracy: 0.9520\t\t% Precision: 0.9482\t\t% Recall: 0.9520\t\t% F1_score: 0.9403\n",
      "Scores for:  food\n",
      "Accuracy: 0.9412\t\t% Precision: 0.9373\t\t% Recall: 0.9412\t\t% F1_score: 0.9373\n",
      "Scores for:  shelter\n",
      "Accuracy: 0.9338\t\t% Precision: 0.9260\t\t% Recall: 0.9338\t\t% F1_score: 0.9227\n",
      "Scores for:  clothing\n",
      "Accuracy: 0.9865\t\t% Precision: 0.9835\t\t% Recall: 0.9865\t\t% F1_score: 0.9816\n",
      "Scores for:  money\n",
      "Accuracy: 0.9785\t\t% Precision: 0.9743\t\t% Recall: 0.9785\t\t% F1_score: 0.9688\n",
      "Scores for:  missing_people\n",
      "Accuracy: 0.9880\t\t% Precision: 0.9822\t\t% Recall: 0.9880\t\t% F1_score: 0.9822\n",
      "Scores for:  refugees\n",
      "Accuracy: 0.9656\t\t% Precision: 0.9460\t\t% Recall: 0.9656\t\t% F1_score: 0.9505\n",
      "Scores for:  death\n",
      "Accuracy: 0.9590\t\t% Precision: 0.9535\t\t% Recall: 0.9590\t\t% F1_score: 0.9457\n",
      "Scores for:  other_aid\n",
      "Accuracy: 0.8689\t\t% Precision: 0.8271\t\t% Recall: 0.8689\t\t% F1_score: 0.8181\n",
      "Scores for:  infrastructure_related\n",
      "Accuracy: 0.9337\t\t% Precision: 0.8921\t\t% Recall: 0.9337\t\t% F1_score: 0.9032\n",
      "Scores for:  transport\n",
      "Accuracy: 0.9554\t\t% Precision: 0.9440\t\t% Recall: 0.9554\t\t% F1_score: 0.9394\n",
      "Scores for:  buildings\n",
      "Accuracy: 0.9533\t\t% Precision: 0.9492\t\t% Recall: 0.9533\t\t% F1_score: 0.9353\n",
      "Scores for:  electricity\n",
      "Accuracy: 0.9794\t\t% Precision: 0.9799\t\t% Recall: 0.9794\t\t% F1_score: 0.9700\n",
      "Scores for:  tools\n",
      "Accuracy: 0.9939\t\t% Precision: 0.9878\t\t% Recall: 0.9939\t\t% F1_score: 0.9908\n",
      "Scores for:  hospitals\n",
      "Accuracy: 0.9901\t\t% Precision: 0.9804\t\t% Recall: 0.9901\t\t% F1_score: 0.9852\n",
      "Scores for:  shops\n",
      "Accuracy: 0.9961\t\t% Precision: 0.9922\t\t% Recall: 0.9961\t\t% F1_score: 0.9941\n",
      "Scores for:  aid_centers\n",
      "Accuracy: 0.9867\t\t% Precision: 0.9736\t\t% Recall: 0.9867\t\t% F1_score: 0.9801\n",
      "Scores for:  other_infrastructure\n",
      "Accuracy: 0.9549\t\t% Precision: 0.9134\t\t% Recall: 0.9549\t\t% F1_score: 0.9337\n",
      "Scores for:  weather_related\n",
      "Accuracy: 0.8571\t\t% Precision: 0.8549\t\t% Recall: 0.8571\t\t% F1_score: 0.8493\n",
      "Scores for:  floods\n",
      "Accuracy: 0.9461\t\t% Precision: 0.9426\t\t% Recall: 0.9461\t\t% F1_score: 0.9364\n",
      "Scores for:  storm\n"
     ]
    },
    {
     "name": "stderr",
     "output_type": "stream",
     "text": [
      "/opt/conda/lib/python3.6/site-packages/sklearn/metrics/classification.py:1135: UndefinedMetricWarning: Precision is ill-defined and being set to 0.0 in labels with no predicted samples.\n",
      "  'precision', 'predicted', average, warn_for)\n",
      "/opt/conda/lib/python3.6/site-packages/sklearn/metrics/classification.py:1135: UndefinedMetricWarning: F-score is ill-defined and being set to 0.0 in labels with no predicted samples.\n",
      "  'precision', 'predicted', average, warn_for)\n"
     ]
    },
    {
     "name": "stdout",
     "output_type": "stream",
     "text": [
      "Accuracy: 0.9320\t\t% Precision: 0.9239\t\t% Recall: 0.9320\t\t% F1_score: 0.9234\n",
      "Scores for:  fire\n",
      "Accuracy: 0.9896\t\t% Precision: 0.9847\t\t% Recall: 0.9896\t\t% F1_score: 0.9849\n",
      "Scores for:  earthquake\n",
      "Accuracy: 0.9649\t\t% Precision: 0.9633\t\t% Recall: 0.9649\t\t% F1_score: 0.9631\n",
      "Scores for:  cold\n",
      "Accuracy: 0.9788\t\t% Precision: 0.9718\t\t% Recall: 0.9788\t\t% F1_score: 0.9700\n",
      "Scores for:  other_weather\n",
      "Accuracy: 0.9483\t\t% Precision: 0.9297\t\t% Recall: 0.9483\t\t% F1_score: 0.9282\n",
      "Scores for:  direct_report\n",
      "Accuracy: 0.8469\t\t% Precision: 0.8331\t\t% Recall: 0.8469\t\t% F1_score: 0.8251\n"
     ]
    }
   ],
   "source": [
    "for i, col in enumerate(y_test.columns.values):\n",
    "    print(\"Scores for: \", target_names[i])\n",
    "    print(\"Accuracy: {:.4f}\\t\\t% Precision: {:.4f}\\t\\t% Recall: {:.4f}\\t\\t% F1_score: {:.4f}\".format(\n",
    "            accuracy_score(y_test.loc[:, col], y_pred[:, i]),\n",
    "            precision_score(y_test.loc[:, col], y_pred[:, i], average='weighted'),\n",
    "            recall_score(y_test.loc[:, col], y_pred[:, i], average='weighted'),\n",
    "        f1_score(y_test.loc[:, col], y_pred[:, i], average='weighted')\n",
    "    ))"
   ]
  },
  {
   "cell_type": "markdown",
   "metadata": {},
   "source": [
    "### 6. Improve your model\n",
    "Use grid search to find better parameters. "
   ]
  },
  {
   "cell_type": "code",
   "execution_count": 11,
   "metadata": {},
   "outputs": [
    {
     "data": {
      "text/plain": [
       "dict_keys(['memory', 'steps', 'vect', 'tfidf', 'clf', 'vect__analyzer', 'vect__binary', 'vect__decode_error', 'vect__dtype', 'vect__encoding', 'vect__input', 'vect__lowercase', 'vect__max_df', 'vect__max_features', 'vect__min_df', 'vect__ngram_range', 'vect__preprocessor', 'vect__stop_words', 'vect__strip_accents', 'vect__token_pattern', 'vect__tokenizer', 'vect__vocabulary', 'tfidf__norm', 'tfidf__smooth_idf', 'tfidf__sublinear_tf', 'tfidf__use_idf', 'clf__estimator__bootstrap', 'clf__estimator__class_weight', 'clf__estimator__criterion', 'clf__estimator__max_depth', 'clf__estimator__max_features', 'clf__estimator__max_leaf_nodes', 'clf__estimator__min_impurity_decrease', 'clf__estimator__min_impurity_split', 'clf__estimator__min_samples_leaf', 'clf__estimator__min_samples_split', 'clf__estimator__min_weight_fraction_leaf', 'clf__estimator__n_estimators', 'clf__estimator__n_jobs', 'clf__estimator__oob_score', 'clf__estimator__random_state', 'clf__estimator__verbose', 'clf__estimator__warm_start', 'clf__estimator', 'clf__n_jobs'])"
      ]
     },
     "execution_count": 11,
     "metadata": {},
     "output_type": "execute_result"
    }
   ],
   "source": [
    "model.get_params().keys()"
   ]
  },
  {
   "cell_type": "code",
   "execution_count": 12,
   "metadata": {},
   "outputs": [],
   "source": [
    "def model_pipeline():\n",
    "    pipeline = Pipeline([\n",
    "        ('vect', CountVectorizer(tokenizer=tokenize)),\n",
    "        ('tfidf', TfidfTransformer()),\n",
    "        ('clf', MultiOutputClassifier(RandomForestClassifier()))\n",
    "    ])\n",
    "         \n",
    "    parameters = {        \n",
    "        'vect__max_df': (0.5, 0.75),\n",
    "        'tfidf__use_idf': (True, False),\n",
    "        'clf__estimator__n_estimators': [50, 100],\n",
    "    }\n",
    "\n",
    "    cv = GridSearchCV(pipeline, param_grid=parameters, n_jobs=-1)\n",
    "    \n",
    "    return cv"
   ]
  },
  {
   "cell_type": "code",
   "execution_count": 13,
   "metadata": {
    "scrolled": true
   },
   "outputs": [
    {
     "name": "stdout",
     "output_type": "stream",
     "text": [
      "Start time:  1552238880.9081864\n",
      "End time:  1552246223.5598438\n"
     ]
    }
   ],
   "source": [
    "import time\n",
    "print(\"Start time: \", time.time())\n",
    "X_train, X_test, y_train, y_test = train_test_split(X, Y, test_size=0.33, random_state=42)\n",
    "model = model_pipeline()\n",
    "model.fit(X_train, y_train)\n",
    "print(\"End time: \", time.time())"
   ]
  },
  {
   "cell_type": "markdown",
   "metadata": {},
   "source": [
    "### 7. Test your model\n",
    "Show the accuracy, precision, and recall of the tuned model.  \n",
    "\n",
    "Since this project focuses on code quality, process, and  pipelines, there is no minimum performance metric needed to pass. However, make sure to fine tune your models for accuracy, precision and recall to make your project stand out - especially for your portfolio!"
   ]
  },
  {
   "cell_type": "code",
   "execution_count": 14,
   "metadata": {},
   "outputs": [
    {
     "data": {
      "text/plain": [
       "Index(['related', 'request', 'offer', 'aid_related', 'medical_help',\n",
       "       'medical_products', 'search_and_rescue', 'security', 'military',\n",
       "       'child_alone', 'water', 'food', 'shelter', 'clothing', 'money',\n",
       "       'missing_people', 'refugees', 'death', 'other_aid',\n",
       "       'infrastructure_related', 'transport', 'buildings', 'electricity',\n",
       "       'tools', 'hospitals', 'shops', 'aid_centers', 'other_infrastructure',\n",
       "       'weather_related', 'floods', 'storm', 'fire', 'earthquake', 'cold',\n",
       "       'other_weather', 'direct_report'],\n",
       "      dtype='object')"
      ]
     },
     "execution_count": 14,
     "metadata": {},
     "output_type": "execute_result"
    }
   ],
   "source": [
    "y_pred = model.predict(X_test)\n",
    "target_names = y_test.columns\n",
    "target_names"
   ]
  },
  {
   "cell_type": "code",
   "execution_count": 15,
   "metadata": {},
   "outputs": [
    {
     "name": "stdout",
     "output_type": "stream",
     "text": [
      "Scores for:  related\n",
      "Accuracy: 0.8091\t\t% Precision: 0.7948\t\t% Recall: 0.8091\t\t% F1_score: 0.7897\n",
      "Scores for:  request\n",
      "Accuracy: 0.8959\t\t% Precision: 0.8907\t\t% Recall: 0.8959\t\t% F1_score: 0.8844\n",
      "Scores for:  offer\n",
      "Accuracy: 0.9956\t\t% Precision: 0.9912\t\t% Recall: 0.9956\t\t% F1_score: 0.9934\n",
      "Scores for:  aid_related\n",
      "Accuracy: 0.7710\t\t% Precision: 0.7695\t\t% Recall: 0.7710\t\t% F1_score: 0.7696\n",
      "Scores for:  medical_help\n",
      "Accuracy: 0.9212\t\t% Precision: 0.8997\t\t% Recall: 0.9212\t\t% F1_score: 0.8909\n",
      "Scores for:  medical_products\n",
      "Accuracy: 0.9524\t\t% Precision: 0.9452\t\t% Recall: 0.9524\t\t% F1_score: 0.9346\n",
      "Scores for:  search_and_rescue\n",
      "Accuracy: 0.9743\t\t% Precision: 0.9675\t\t% Recall: 0.9743\t\t% F1_score: 0.9628\n",
      "Scores for:  security\n",
      "Accuracy: 0.9813\t\t% Precision: 0.9634\t\t% Recall: 0.9813\t\t% F1_score: 0.9722\n",
      "Scores for:  military\n",
      "Accuracy: 0.9696\t\t% Precision: 0.9585\t\t% Recall: 0.9696\t\t% F1_score: 0.9582\n",
      "Scores for:  child_alone\n",
      "Accuracy: 1.0000\t\t% Precision: 1.0000\t\t% Recall: 1.0000\t\t% F1_score: 1.0000\n",
      "Scores for:  water\n",
      "Accuracy: 0.9589\t\t% Precision: 0.9553\t\t% Recall: 0.9589\t\t% F1_score: 0.9521\n",
      "Scores for:  food\n",
      "Accuracy: 0.9444\t\t% Precision: 0.9411\t\t% Recall: 0.9444\t\t% F1_score: 0.9403\n",
      "Scores for:  shelter\n",
      "Accuracy: 0.9348\t\t% Precision: 0.9280\t\t% Recall: 0.9348\t\t% F1_score: 0.9233\n",
      "Scores for:  clothing\n",
      "Accuracy: 0.9859\t\t% Precision: 0.9824\t\t% Recall: 0.9859\t\t% F1_score: 0.9800\n",
      "Scores for:  money\n",
      "Accuracy: 0.9785\t\t% Precision: 0.9759\t\t% Recall: 0.9785\t\t% F1_score: 0.9686\n",
      "Scores for:  missing_people\n",
      "Accuracy: 0.9881\t\t% Precision: 0.9882\t\t% Recall: 0.9881\t\t% F1_score: 0.9823\n",
      "Scores for:  refugees\n",
      "Accuracy: 0.9658\t\t% Precision: 0.9470\t\t% Recall: 0.9658\t\t% F1_score: 0.9504\n",
      "Scores for:  death\n",
      "Accuracy: 0.9602\t\t% Precision: 0.9591\t\t% Recall: 0.9602\t\t% F1_score: 0.9467\n",
      "Scores for:  other_aid\n",
      "Accuracy: 0.8697\t\t% Precision: 0.8344\t\t% Recall: 0.8697\t\t% F1_score: 0.8165\n",
      "Scores for:  infrastructure_related\n",
      "Accuracy: 0.9344\t\t% Precision: 0.8730\t\t% Recall: 0.9344\t\t% F1_score: 0.9026\n",
      "Scores for:  transport\n",
      "Accuracy: 0.9548\t\t% Precision: 0.9448\t\t% Recall: 0.9548\t\t% F1_score: 0.9364\n",
      "Scores for:  buildings\n",
      "Accuracy: 0.9542\t\t% Precision: 0.9495\t\t% Recall: 0.9542\t\t% F1_score: 0.9377\n",
      "Scores for:  electricity\n",
      "Accuracy: 0.9793\t\t% Precision: 0.9757\t\t% Recall: 0.9793\t\t% F1_score: 0.9701\n",
      "Scores for:  tools\n",
      "Accuracy: 0.9939\t\t% Precision: 0.9878\t\t% Recall: 0.9939\t\t% F1_score: 0.9908\n",
      "Scores for:  hospitals\n",
      "Accuracy: 0.9902\t\t% Precision: 0.9804\t\t% Recall: 0.9902\t\t% F1_score: 0.9853\n",
      "Scores for:  shops\n",
      "Accuracy: 0.9961\t\t% Precision: 0.9922\t\t% Recall: 0.9961\t\t% F1_score: 0.9941\n",
      "Scores for:  aid_centers\n",
      "Accuracy: 0.9867\t\t% Precision: 0.9736\t\t% Recall: 0.9867\t\t% F1_score: 0.9801\n",
      "Scores for:  other_infrastructure\n",
      "Accuracy: 0.9557\t\t% Precision: 0.9357\t\t% Recall: 0.9557\t\t% F1_score: 0.9343\n",
      "Scores for:  weather_related\n",
      "Accuracy: 0.8737\t\t% Precision: 0.8713\t\t% Recall: 0.8737\t\t% F1_score: 0.8688\n",
      "Scores for:  floods\n",
      "Accuracy: 0.9510\t\t% Precision: 0.9481\t\t% Recall: 0.9510\t\t% F1_score: 0.9436\n",
      "Scores for:  storm\n"
     ]
    },
    {
     "name": "stderr",
     "output_type": "stream",
     "text": [
      "/opt/conda/lib/python3.6/site-packages/sklearn/metrics/classification.py:1135: UndefinedMetricWarning: Precision is ill-defined and being set to 0.0 in labels with no predicted samples.\n",
      "  'precision', 'predicted', average, warn_for)\n",
      "/opt/conda/lib/python3.6/site-packages/sklearn/metrics/classification.py:1135: UndefinedMetricWarning: F-score is ill-defined and being set to 0.0 in labels with no predicted samples.\n",
      "  'precision', 'predicted', average, warn_for)\n"
     ]
    },
    {
     "name": "stdout",
     "output_type": "stream",
     "text": [
      "Accuracy: 0.9375\t\t% Precision: 0.9314\t\t% Recall: 0.9375\t\t% F1_score: 0.9321\n",
      "Scores for:  fire\n",
      "Accuracy: 0.9896\t\t% Precision: 0.9846\t\t% Recall: 0.9896\t\t% F1_score: 0.9846\n",
      "Scores for:  earthquake\n",
      "Accuracy: 0.9698\t\t% Precision: 0.9687\t\t% Recall: 0.9698\t\t% F1_score: 0.9689\n",
      "Scores for:  cold\n",
      "Accuracy: 0.9798\t\t% Precision: 0.9769\t\t% Recall: 0.9798\t\t% F1_score: 0.9715\n",
      "Scores for:  other_weather\n",
      "Accuracy: 0.9493\t\t% Precision: 0.9410\t\t% Recall: 0.9493\t\t% F1_score: 0.9270\n",
      "Scores for:  direct_report\n",
      "Accuracy: 0.8518\t\t% Precision: 0.8425\t\t% Recall: 0.8518\t\t% F1_score: 0.8281\n"
     ]
    }
   ],
   "source": [
    "for i, col in enumerate(y_test.columns.values):\n",
    "    print(\"Scores for: \", target_names[i])\n",
    "    print(\"Accuracy: {:.4f}\\t\\t% Precision: {:.4f}\\t\\t% Recall: {:.4f}\\t\\t% F1_score: {:.4f}\".format(\n",
    "            accuracy_score(y_test.loc[:, col], y_pred[:, i]),\n",
    "            precision_score(y_test.loc[:, col], y_pred[:, i], average='weighted'),\n",
    "            recall_score(y_test.loc[:, col], y_pred[:, i], average='weighted'),\n",
    "        f1_score(y_test.loc[:, col], y_pred[:, i], average='weighted')\n",
    "    ))"
   ]
  },
  {
   "cell_type": "markdown",
   "metadata": {},
   "source": [
    "### 8. Try improving your model further. Here are a few ideas:\n",
    "* try other machine learning algorithms\n",
    "* add other features besides the TF-IDF"
   ]
  },
  {
   "cell_type": "code",
   "execution_count": 16,
   "metadata": {},
   "outputs": [],
   "source": [
    "class StartingVerbExtractor(BaseEstimator, TransformerMixin):\n",
    "\n",
    "    def starting_verb(self, text):\n",
    "        sentence_list = nltk.sent_tokenize(text)\n",
    "        for sentence in sentence_list:\n",
    "            pos_tags = nltk.pos_tag(tokenize(sentence))\n",
    "            if len(pos_tags) == 0:\n",
    "                return False\n",
    "            first_word, first_tag = pos_tags[0]\n",
    "            if first_tag in ['VB', 'VBP'] or first_word == 'RT':\n",
    "                return True\n",
    "        return False\n",
    "\n",
    "    def fit(self, x, y=None):\n",
    "        return self\n",
    "\n",
    "    def transform(self, X):\n",
    "        X_tagged = pd.Series(X).apply(self.starting_verb)\n",
    "        return pd.DataFrame(X_tagged)"
   ]
  },
  {
   "cell_type": "code",
   "execution_count": 17,
   "metadata": {},
   "outputs": [],
   "source": [
    "def model_pipeline():\n",
    "    pipeline = Pipeline([\n",
    "        ('features', FeatureUnion([\n",
    "\n",
    "            ('text_pipeline', Pipeline([\n",
    "                ('vect', CountVectorizer(tokenizer=tokenize)),\n",
    "                ('tfidf', TfidfTransformer())\n",
    "            ])),\n",
    "\n",
    "            ('starting_verb', StartingVerbExtractor())\n",
    "        ])),\n",
    "\n",
    "        ('clf', MultiOutputClassifier(AdaBoostClassifier()))\n",
    "    ])\n",
    "         \n",
    "    parameters = {        \n",
    "        'features__text_pipeline__vect__max_df': (0.5, 0.75),\n",
    "        'features__text_pipeline__tfidf__use_idf': (True, False),\n",
    "        'clf__estimator__n_estimators': [50, 100],\n",
    "    }\n",
    "\n",
    "    cv = GridSearchCV(pipeline, param_grid=parameters)\n",
    "    \n",
    "    return cv"
   ]
  },
  {
   "cell_type": "code",
   "execution_count": 18,
   "metadata": {
    "scrolled": false
   },
   "outputs": [
    {
     "name": "stdout",
     "output_type": "stream",
     "text": [
      "Start time:  1552246622.1439745\n",
      "End time:  1552250661.36079\n"
     ]
    }
   ],
   "source": [
    "print(\"Start time: \", time.time())\n",
    "X_train, X_test, y_train, y_test = train_test_split(X, Y, test_size=0.33, random_state=42)\n",
    "model = model_pipeline()\n",
    "model.fit(X_train, y_train)\n",
    "print(\"End time: \", time.time())"
   ]
  },
  {
   "cell_type": "code",
   "execution_count": 19,
   "metadata": {},
   "outputs": [
    {
     "data": {
      "text/plain": [
       "Index(['related', 'request', 'offer', 'aid_related', 'medical_help',\n",
       "       'medical_products', 'search_and_rescue', 'security', 'military',\n",
       "       'child_alone', 'water', 'food', 'shelter', 'clothing', 'money',\n",
       "       'missing_people', 'refugees', 'death', 'other_aid',\n",
       "       'infrastructure_related', 'transport', 'buildings', 'electricity',\n",
       "       'tools', 'hospitals', 'shops', 'aid_centers', 'other_infrastructure',\n",
       "       'weather_related', 'floods', 'storm', 'fire', 'earthquake', 'cold',\n",
       "       'other_weather', 'direct_report'],\n",
       "      dtype='object')"
      ]
     },
     "execution_count": 19,
     "metadata": {},
     "output_type": "execute_result"
    }
   ],
   "source": [
    "y_pred = model.predict(X_test)\n",
    "target_names = y_test.columns\n",
    "target_names"
   ]
  },
  {
   "cell_type": "code",
   "execution_count": 20,
   "metadata": {},
   "outputs": [
    {
     "name": "stdout",
     "output_type": "stream",
     "text": [
      "Scores for:  related\n",
      "Accuracy: 0.7665\t\t% Precision: 0.7439\t\t% Recall: 0.7665\t\t% F1_score: 0.6941\n",
      "Scores for:  request\n",
      "Accuracy: 0.8895\t\t% Precision: 0.8814\t\t% Recall: 0.8895\t\t% F1_score: 0.8814\n",
      "Scores for:  offer\n",
      "Accuracy: 0.9940\t\t% Precision: 0.9916\t\t% Recall: 0.9940\t\t% F1_score: 0.9928\n",
      "Scores for:  aid_related\n",
      "Accuracy: 0.7654\t\t% Precision: 0.7644\t\t% Recall: 0.7654\t\t% F1_score: 0.7611\n",
      "Scores for:  medical_help\n",
      "Accuracy: 0.9220\t\t% Precision: 0.9055\t\t% Recall: 0.9220\t\t% F1_score: 0.9095\n",
      "Scores for:  medical_products\n",
      "Accuracy: 0.9558\t\t% Precision: 0.9473\t\t% Recall: 0.9558\t\t% F1_score: 0.9480\n",
      "Scores for:  search_and_rescue\n",
      "Accuracy: 0.9741\t\t% Precision: 0.9664\t\t% Recall: 0.9741\t\t% F1_score: 0.9683\n",
      "Scores for:  security\n",
      "Accuracy: 0.9797\t\t% Precision: 0.9674\t\t% Recall: 0.9797\t\t% F1_score: 0.9724\n",
      "Scores for:  military\n",
      "Accuracy: 0.9708\t\t% Precision: 0.9650\t\t% Recall: 0.9708\t\t% F1_score: 0.9668\n",
      "Scores for:  child_alone\n",
      "Accuracy: 1.0000\t\t% Precision: 1.0000\t\t% Recall: 1.0000\t\t% F1_score: 1.0000\n",
      "Scores for:  water\n",
      "Accuracy: 0.9612\t\t% Precision: 0.9590\t\t% Recall: 0.9612\t\t% F1_score: 0.9599\n",
      "Scores for:  food\n",
      "Accuracy: 0.9464\t\t% Precision: 0.9438\t\t% Recall: 0.9464\t\t% F1_score: 0.9445\n",
      "Scores for:  shelter\n",
      "Accuracy: 0.9439\t\t% Precision: 0.9393\t\t% Recall: 0.9439\t\t% F1_score: 0.9403\n",
      "Scores for:  clothing\n",
      "Accuracy: 0.9876\t\t% Precision: 0.9860\t\t% Recall: 0.9876\t\t% F1_score: 0.9866\n",
      "Scores for:  money\n",
      "Accuracy: 0.9764\t\t% Precision: 0.9719\t\t% Recall: 0.9764\t\t% F1_score: 0.9737\n",
      "Scores for:  missing_people\n",
      "Accuracy: 0.9880\t\t% Precision: 0.9837\t\t% Recall: 0.9880\t\t% F1_score: 0.9845\n",
      "Scores for:  refugees\n",
      "Accuracy: 0.9665\t\t% Precision: 0.9588\t\t% Recall: 0.9665\t\t% F1_score: 0.9612\n",
      "Scores for:  death\n",
      "Accuracy: 0.9621\t\t% Precision: 0.9557\t\t% Recall: 0.9621\t\t% F1_score: 0.9564\n",
      "Scores for:  other_aid\n",
      "Accuracy: 0.8719\t\t% Precision: 0.8408\t\t% Recall: 0.8719\t\t% F1_score: 0.8411\n",
      "Scores for:  infrastructure_related\n",
      "Accuracy: 0.9293\t\t% Precision: 0.9027\t\t% Recall: 0.9293\t\t% F1_score: 0.9108\n",
      "Scores for:  transport\n",
      "Accuracy: 0.9562\t\t% Precision: 0.9455\t\t% Recall: 0.9562\t\t% F1_score: 0.9470\n",
      "Scores for:  buildings\n",
      "Accuracy: 0.9597\t\t% Precision: 0.9534\t\t% Recall: 0.9597\t\t% F1_score: 0.9542\n",
      "Scores for:  electricity\n",
      "Accuracy: 0.9788\t\t% Precision: 0.9729\t\t% Recall: 0.9788\t\t% F1_score: 0.9745\n",
      "Scores for:  tools\n",
      "Accuracy: 0.9925\t\t% Precision: 0.9883\t\t% Recall: 0.9925\t\t% F1_score: 0.9903\n",
      "Scores for:  hospitals\n",
      "Accuracy: 0.9880\t\t% Precision: 0.9836\t\t% Recall: 0.9880\t\t% F1_score: 0.9855\n",
      "Scores for:  shops\n",
      "Accuracy: 0.9946\t\t% Precision: 0.9931\t\t% Recall: 0.9946\t\t% F1_score: 0.9938\n",
      "Scores for:  aid_centers\n",
      "Accuracy: 0.9846\t\t% Precision: 0.9769\t\t% Recall: 0.9846\t\t% F1_score: 0.9802\n",
      "Scores for:  other_infrastructure\n",
      "Accuracy: 0.9495\t\t% Precision: 0.9290\t\t% Recall: 0.9495\t\t% F1_score: 0.9368\n",
      "Scores for:  weather_related\n",
      "Accuracy: 0.8706\t\t% Precision: 0.8677\t\t% Recall: 0.8706\t\t% F1_score: 0.8659\n",
      "Scores for:  floods\n",
      "Accuracy: 0.9526\t\t% Precision: 0.9485\t\t% Recall: 0.9526\t\t% F1_score: 0.9486\n",
      "Scores for:  storm\n",
      "Accuracy: 0.9398\t\t% Precision: 0.9347\t\t% Recall: 0.9398\t\t% F1_score: 0.9359\n",
      "Scores for:  fire\n",
      "Accuracy: 0.9894\t\t% Precision: 0.9860\t\t% Recall: 0.9894\t\t% F1_score: 0.9870\n",
      "Scores for:  earthquake\n",
      "Accuracy: 0.9688\t\t% Precision: 0.9677\t\t% Recall: 0.9688\t\t% F1_score: 0.9680\n",
      "Scores for:  cold\n",
      "Accuracy: 0.9812\t\t% Precision: 0.9779\t\t% Recall: 0.9812\t\t% F1_score: 0.9788\n",
      "Scores for:  other_weather\n",
      "Accuracy: 0.9444\t\t% Precision: 0.9270\t\t% Recall: 0.9444\t\t% F1_score: 0.9325\n",
      "Scores for:  direct_report\n",
      "Accuracy: 0.8456\t\t% Precision: 0.8304\t\t% Recall: 0.8456\t\t% F1_score: 0.8281\n"
     ]
    }
   ],
   "source": [
    "for i, col in enumerate(y_test.columns.values):\n",
    "    print(\"Scores for: \", target_names[i])\n",
    "    print(\"Accuracy: {:.4f}\\t\\t% Precision: {:.4f}\\t\\t% Recall: {:.4f}\\t\\t% F1_score: {:.4f}\".format(\n",
    "            accuracy_score(y_test.loc[:, col], y_pred[:, i]),\n",
    "            precision_score(y_test.loc[:, col], y_pred[:, i], average='weighted'),\n",
    "            recall_score(y_test.loc[:, col], y_pred[:, i], average='weighted'),\n",
    "        f1_score(y_test.loc[:, col], y_pred[:, i], average='weighted')\n",
    "    ))"
   ]
  },
  {
   "cell_type": "markdown",
   "metadata": {},
   "source": [
    "### 9. Export your model as a pickle file"
   ]
  },
  {
   "cell_type": "code",
   "execution_count": 21,
   "metadata": {},
   "outputs": [],
   "source": [
    "with open('model.pkl', 'wb') as f:\n",
    "    pickle.dump(model, f)"
   ]
  },
  {
   "cell_type": "markdown",
   "metadata": {},
   "source": [
    "### 10. Use this notebook to complete `train.py`\n",
    "Use the template file attached in the Resources folder to write a script that runs the steps above to create a database and export a model based on a new dataset specified by the user."
   ]
  }
 ],
 "metadata": {
  "kernelspec": {
   "display_name": "Python 3",
   "language": "python",
   "name": "python3"
  },
  "language_info": {
   "codemirror_mode": {
    "name": "ipython",
    "version": 3
   },
   "file_extension": ".py",
   "mimetype": "text/x-python",
   "name": "python",
   "nbconvert_exporter": "python",
   "pygments_lexer": "ipython3",
   "version": "3.6.3"
  }
 },
 "nbformat": 4,
 "nbformat_minor": 2
}
